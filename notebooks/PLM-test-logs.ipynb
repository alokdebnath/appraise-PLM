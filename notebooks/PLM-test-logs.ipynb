{
 "cells": [
  {
   "cell_type": "code",
   "execution_count": 1,
   "id": "3de9242e-28bd-41cd-9725-db6e4a9f9cc9",
   "metadata": {},
   "outputs": [],
   "source": [
    "import torch\n",
    "from torch.utils.data import DataLoader, Dataset\n",
    "from torch.optim import AdamW\n",
    "from torch.nn.utils import clip_grad_norm_\n",
    "from transformers import AutoTokenizer, AutoModelForSequenceClassification\n",
    "from transformers import get_linear_schedule_with_warmup\n",
    "import pandas as pd\n",
    "import math\n",
    "from sklearn.metrics import accuracy_score, precision_recall_fscore_support\n",
    "from sklearn.metrics import mean_absolute_error, mean_squared_error\n",
    "from tqdm import tqdm\n",
    "import os\n",
    "import itertools\n",
    "import numpy as np"
   ]
  },
  {
   "cell_type": "code",
   "execution_count": 2,
   "id": "dbf1ffa8-17a5-424f-8ccc-83492a638786",
   "metadata": {},
   "outputs": [],
   "source": [
    "class TextValueDataset(Dataset):\n",
    "    def __init__(self, dataframe, tokenizer, max_length, column):\n",
    "        self.dataframe = dataframe\n",
    "        self.tokenizer = tokenizer\n",
    "        self.max_length = max_length\n",
    "        self.column = column\n",
    "\n",
    "    def __len__(self):\n",
    "        return len(self.dataframe)\n",
    "\n",
    "    def __getitem__(self, index):\n",
    "        row = self.dataframe.iloc[index]\n",
    "        text = row['generated_text']\n",
    "        label = (row[self.column] - 1)/4 # Convert value to 0-1\n",
    "        \n",
    "        encoding = self.tokenizer.encode_plus(\n",
    "            text,\n",
    "            add_special_tokens=True,\n",
    "            max_length=self.max_length,\n",
    "            padding='max_length',\n",
    "            truncation=True,\n",
    "            return_tensors='pt',\n",
    "            return_attention_mask=True\n",
    "        )\n",
    "        \n",
    "        return {\n",
    "            'input_ids': encoding['input_ids'].flatten(),\n",
    "            'attention_mask': encoding['attention_mask'].flatten(),\n",
    "            'labels': torch.tensor(label, dtype=torch.float)\n",
    "        }"
   ]
  },
  {
   "cell_type": "code",
   "execution_count": 3,
   "id": "bd0d4f91-a069-49ec-9a93-3fe11629e7cd",
   "metadata": {},
   "outputs": [],
   "source": [
    "# Load dataset\n",
    "def load_dataset(file_path):\n",
    "    if '.tsv' in file_path:\n",
    "        df = pd.read_csv(file_path, sep='\\t')\n",
    "    else:\n",
    "        df = pd.read_csv(file_path)\n",
    "    return df\n",
    "\n",
    "# Create DataLoader\n",
    "def create_dataloader(df, tokenizer, max_length, batch_size, column):\n",
    "    dataset = TextValueDataset(df, tokenizer, max_length, column)\n",
    "    return DataLoader(dataset, batch_size=batch_size, shuffle=True)"
   ]
  },
  {
   "cell_type": "code",
   "execution_count": 4,
   "id": "2941f304-110d-4112-b87c-eca5d025e2d1",
   "metadata": {},
   "outputs": [],
   "source": [
    "def evaluate(model, dataloader, device):\n",
    "    model.eval()\n",
    "    predictions, true_labels, pos_probs = [], [], []\n",
    "\n",
    "    eval_loss = 0\n",
    "    eval_loop = tqdm(dataloader, desc=\"Evaluating\", leave=False)\n",
    "    with torch.no_grad():\n",
    "        for batch in eval_loop:\n",
    "            input_ids = batch['input_ids'].to(device)\n",
    "            attention_mask = batch['attention_mask'].to(device)\n",
    "            labels = batch['labels'].to(device)\n",
    "\n",
    "            # print(input_ids, attention_mask, labels)\n",
    "            \n",
    "            outputs = model(\n",
    "                input_ids=input_ids,\n",
    "                attention_mask=attention_mask,\n",
    "                labels=labels\n",
    "            )\n",
    "            logits = outputs.logits\n",
    "            # print(logits)\n",
    "            # preds = torch.argmax(logits, dim=1)\n",
    "            # print(preds)\n",
    "            \n",
    "            loss = outputs.loss\n",
    "            eval_loss += loss.item()\n",
    "            eval_loop.set_postfix(loss=loss.item())\n",
    "            \n",
    "            predictions.extend(logits.cpu().numpy())\n",
    "            true_labels.extend(labels.cpu().numpy())\n",
    "    \n",
    "    # accuracy = accuracy_score(true_labels, predictions)\n",
    "    # precision, recall, f1, _ = precision_recall_fscore_support(true_labels, predictions, average='weighted')\n",
    "    \n",
    "    mae = mean_absolute_error(true_labels, predictions)\n",
    "    mse = mean_squared_error(true_labels, predictions)\n",
    "    return eval_loss, np.sqrt(mse), mse, mae"
   ]
  },
  {
   "cell_type": "code",
   "execution_count": 5,
   "id": "db956d45-7f45-47a0-9c9c-74d319fb767f",
   "metadata": {},
   "outputs": [],
   "source": [
    "data_dict = { \n",
    "                'model' : [],\n",
    "                 'dimension' : [],\n",
    "                 'RMSE' : [],\n",
    "                 'MSE' : [],\n",
    "                 'MAE' : []\n",
    "            }"
   ]
  },
  {
   "cell_type": "code",
   "execution_count": 6,
   "id": "c8b638af-2d51-4c40-9b7d-eee8167d9e4d",
   "metadata": {
    "scrolled": true
   },
   "outputs": [],
   "source": [
    "def get_performance(tokname, modeldir):\n",
    "    max_length = 256\n",
    "    batch_size = 16\n",
    "    device = torch.device(\"cuda\" if torch.cuda.is_available() else \"cpu\")\n",
    "    # tokenizer = AutoTokenizer.from_pretrained('google-t5/t5-small')\n",
    "    tokenizer = AutoTokenizer.from_pretrained(tokname)\n",
    "    test_df = load_dataset('../data/crowd-enVent-test.tsv')\n",
    "    for model_name in os.listdir(modeldir):\n",
    "        # model_name='./models/google-t5/suddenness_google-t5/'\n",
    "        if '.ipy' in model_name:\n",
    "            continue\n",
    "        column = str.join('_', model_name.split('_')[:-1])\n",
    "        print(column)\n",
    "        test_loader = create_dataloader(test_df, tokenizer, max_length, batch_size, column)\n",
    "        model = AutoModelForSequenceClassification.from_pretrained(os.path.join(modeldir, model_name))\n",
    "        model = model.to(device)\n",
    "        _, test_rmse, test_mse, test_mae = evaluate(model, test_loader, device)\n",
    "        \n",
    "        \n",
    "        print(f'Model Name: {model_name}, Test RMSE: {test_rmse:.4f}, Test MSE: {test_mse:.4f}, Test MAE: {test_mae:.4f}')\n",
    "        data_dict['model'].append(model_name.split('_')[-1])\n",
    "        data_dict['dimension'].append(column)\n",
    "        data_dict['RMSE'].append(test_rmse)\n",
    "        data_dict['MSE'].append(test_mse)\n",
    "        data_dict['MAE'].append(test_mae)\n",
    "        # Cleanup\n",
    "        model.to('cpu')\n",
    "        del model\n",
    "        torch.cuda.empty_cache()\n",
    "    \n",
    "    return data_dict"
   ]
  },
  {
   "cell_type": "code",
   "execution_count": 7,
   "id": "512bc174-329e-4c52-be89-420c482b7436",
   "metadata": {},
   "outputs": [],
   "source": [
    "def roc_curve(model, app_dim, fpr, tpr, auc):\n",
    "    plt.figure(figsize=(8, 6))\n",
    "    plt.plot(fpr, tpr, color='blue', label=f'ROC Curve (AUC = {auc:.2f})')\n",
    "    plt.plot([0, 1], [0, 1], color='red', linestyle='--')  # Diagonal line for random guessing\n",
    "    plt.xlim([0.0, 1.0])\n",
    "    plt.ylim([0.0, 1.05])\n",
    "    plt.xlabel('False Positive Rate')\n",
    "    plt.ylabel('True Positive Rate')\n",
    "    plt.title(model + ':' + app_dim + ' Receiver Operating Characteristic (ROC) Curve')\n",
    "    plt.legend(loc='lower right')\n",
    "    plt.grid()\n",
    "    plt.show()"
   ]
  },
  {
   "cell_type": "code",
   "execution_count": 8,
   "id": "3e72e0a9-22e5-471c-88e6-f8e37babe1ed",
   "metadata": {
    "scrolled": true
   },
   "outputs": [
    {
     "name": "stderr",
     "output_type": "stream",
     "text": [
      "/home/adebnath/anaconda3/lib/python3.11/site-packages/transformers/tokenization_utils_base.py:1601: FutureWarning: `clean_up_tokenization_spaces` was not set. It will be set to `True` by default. This behavior will be depracted in transformers v4.45, and will be then set to `False` by default. For more details check this issue: https://github.com/huggingface/transformers/issues/31884\n",
      "  warnings.warn(\n"
     ]
    },
    {
     "name": "stdout",
     "output_type": "stream",
     "text": [
      "self_control\n"
     ]
    },
    {
     "name": "stderr",
     "output_type": "stream",
     "text": [
      "                                                                                                                                                                                                                      \r"
     ]
    },
    {
     "name": "stdout",
     "output_type": "stream",
     "text": [
      "Model Name: self_control_bert-base-uncased, Test RMSE: 0.3408, Test MSE: 0.1162, Test MAE: 0.2672\n",
      "urgency\n"
     ]
    },
    {
     "name": "stderr",
     "output_type": "stream",
     "text": [
      "                                                                                                                                                                                                                      \r"
     ]
    },
    {
     "name": "stdout",
     "output_type": "stream",
     "text": [
      "Model Name: urgency_bert-base-uncased, Test RMSE: 0.3582, Test MSE: 0.1283, Test MAE: 0.2891\n",
      "predict_event\n"
     ]
    },
    {
     "name": "stderr",
     "output_type": "stream",
     "text": [
      "                                                                                                                                                                                                                      \r"
     ]
    },
    {
     "name": "stdout",
     "output_type": "stream",
     "text": [
      "Model Name: predict_event_bert-base-uncased, Test RMSE: 0.3501, Test MSE: 0.1226, Test MAE: 0.3006\n",
      "chance_control\n"
     ]
    },
    {
     "name": "stderr",
     "output_type": "stream",
     "text": [
      "                                                                                                                                                                                                                      \r"
     ]
    },
    {
     "name": "stdout",
     "output_type": "stream",
     "text": [
      "Model Name: chance_control_bert-base-uncased, Test RMSE: 0.3406, Test MSE: 0.1160, Test MAE: 0.2709\n",
      "effort\n"
     ]
    },
    {
     "name": "stderr",
     "output_type": "stream",
     "text": [
      "                                                                                                                                                                                                                      \r"
     ]
    },
    {
     "name": "stdout",
     "output_type": "stream",
     "text": [
      "Model Name: effort_bert-base-uncased, Test RMSE: 0.3307, Test MSE: 0.1093, Test MAE: 0.2668\n",
      "attention\n"
     ]
    },
    {
     "name": "stderr",
     "output_type": "stream",
     "text": [
      "                                                                                                                                                                                                                      \r"
     ]
    },
    {
     "name": "stdout",
     "output_type": "stream",
     "text": [
      "Model Name: attention_bert-base-uncased, Test RMSE: 0.3110, Test MSE: 0.0967, Test MAE: 0.2578\n",
      "not_consider\n"
     ]
    },
    {
     "name": "stderr",
     "output_type": "stream",
     "text": [
      "                                                                                                                                                                                                                      \r"
     ]
    },
    {
     "name": "stdout",
     "output_type": "stream",
     "text": [
      "Model Name: not_consider_bert-base-uncased, Test RMSE: 0.3552, Test MSE: 0.1262, Test MAE: 0.2892\n",
      "chance_responsblt\n"
     ]
    },
    {
     "name": "stderr",
     "output_type": "stream",
     "text": [
      "                                                                                                                                                                                                                      \r"
     ]
    },
    {
     "name": "stdout",
     "output_type": "stream",
     "text": [
      "Model Name: chance_responsblt_bert-base-uncased, Test RMSE: 0.3560, Test MSE: 0.1268, Test MAE: 0.2966\n",
      "accept_conseq\n"
     ]
    },
    {
     "name": "stderr",
     "output_type": "stream",
     "text": [
      "                                                                                                                                                                                                                      \r"
     ]
    },
    {
     "name": "stdout",
     "output_type": "stream",
     "text": [
      "Model Name: accept_conseq_bert-base-uncased, Test RMSE: 0.3491, Test MSE: 0.1218, Test MAE: 0.2987\n",
      "pleasantness\n"
     ]
    },
    {
     "name": "stderr",
     "output_type": "stream",
     "text": [
      "                                                                                                                                                                                                                      \r"
     ]
    },
    {
     "name": "stdout",
     "output_type": "stream",
     "text": [
      "Model Name: pleasantness_bert-base-uncased, Test RMSE: 0.2678, Test MSE: 0.0717, Test MAE: 0.1918\n",
      "predict_conseq\n"
     ]
    },
    {
     "name": "stderr",
     "output_type": "stream",
     "text": [
      "                                                                                                                                                                                                                      \r"
     ]
    },
    {
     "name": "stdout",
     "output_type": "stream",
     "text": [
      "Model Name: predict_conseq_bert-base-uncased, Test RMSE: 0.3555, Test MSE: 0.1264, Test MAE: 0.3082\n",
      "suddenness\n"
     ]
    },
    {
     "name": "stderr",
     "output_type": "stream",
     "text": [
      "                                                                                                                                                                                                                      \r"
     ]
    },
    {
     "name": "stdout",
     "output_type": "stream",
     "text": [
      "Model Name: suddenness_bert-base-uncased, Test RMSE: 0.3210, Test MSE: 0.1031, Test MAE: 0.2596\n",
      "unpleasantness\n"
     ]
    },
    {
     "name": "stderr",
     "output_type": "stream",
     "text": [
      "                                                                                                                                                                                                                      \r"
     ]
    },
    {
     "name": "stdout",
     "output_type": "stream",
     "text": [
      "Model Name: unpleasantness_bert-base-uncased, Test RMSE: 0.3019, Test MSE: 0.0911, Test MAE: 0.2065\n",
      "other_responsblt\n"
     ]
    },
    {
     "name": "stderr",
     "output_type": "stream",
     "text": [
      "                                                                                                                                                                                                                      \r"
     ]
    },
    {
     "name": "stdout",
     "output_type": "stream",
     "text": [
      "Model Name: other_responsblt_bert-base-uncased, Test RMSE: 0.3377, Test MSE: 0.1140, Test MAE: 0.2613\n",
      "social_norms\n"
     ]
    },
    {
     "name": "stderr",
     "output_type": "stream",
     "text": [
      "                                                                                                                                                                                                                      \r"
     ]
    },
    {
     "name": "stdout",
     "output_type": "stream",
     "text": [
      "Model Name: social_norms_bert-base-uncased, Test RMSE: 0.2806, Test MSE: 0.0787, Test MAE: 0.2174\n",
      "standards\n"
     ]
    },
    {
     "name": "stderr",
     "output_type": "stream",
     "text": [
      "                                                                                                                                                                                                                      \r"
     ]
    },
    {
     "name": "stdout",
     "output_type": "stream",
     "text": [
      "Model Name: standards_bert-base-uncased, Test RMSE: 0.3444, Test MSE: 0.1186, Test MAE: 0.2837\n",
      "goal_support\n"
     ]
    },
    {
     "name": "stderr",
     "output_type": "stream",
     "text": [
      "                                                                                                                                                                                                                      \r"
     ]
    },
    {
     "name": "stdout",
     "output_type": "stream",
     "text": [
      "Model Name: goal_support_bert-base-uncased, Test RMSE: 0.2937, Test MSE: 0.0862, Test MAE: 0.2284\n",
      "familiarity\n"
     ]
    },
    {
     "name": "stderr",
     "output_type": "stream",
     "text": [
      "                                                                                                                                                                                                                      \r"
     ]
    },
    {
     "name": "stdout",
     "output_type": "stream",
     "text": [
      "Model Name: familiarity_bert-base-uncased, Test RMSE: 0.3355, Test MSE: 0.1126, Test MAE: 0.2817\n",
      "other_control\n"
     ]
    },
    {
     "name": "stderr",
     "output_type": "stream",
     "text": [
      "                                                                                                                                                                                                                      \r"
     ]
    },
    {
     "name": "stdout",
     "output_type": "stream",
     "text": [
      "Model Name: other_control_bert-base-uncased, Test RMSE: 0.3455, Test MSE: 0.1193, Test MAE: 0.2935\n",
      "self_responsblt\n"
     ]
    },
    {
     "name": "stderr",
     "output_type": "stream",
     "text": [
      "                                                                                                                                                                                                                      \r"
     ]
    },
    {
     "name": "stdout",
     "output_type": "stream",
     "text": [
      "Model Name: self_responsblt_bert-base-uncased, Test RMSE: 0.3153, Test MSE: 0.0994, Test MAE: 0.2444\n",
      "goal_relevance\n"
     ]
    },
    {
     "name": "stderr",
     "output_type": "stream",
     "text": [
      "                                                                                                                                                                                                                      \r"
     ]
    },
    {
     "name": "stdout",
     "output_type": "stream",
     "text": [
      "Model Name: goal_relevance_bert-base-uncased, Test RMSE: 0.3211, Test MSE: 0.1031, Test MAE: 0.2681\n"
     ]
    },
    {
     "name": "stderr",
     "output_type": "stream",
     "text": [
      "/home/adebnath/anaconda3/lib/python3.11/site-packages/transformers/tokenization_utils_base.py:1601: FutureWarning: `clean_up_tokenization_spaces` was not set. It will be set to `True` by default. This behavior will be depracted in transformers v4.45, and will be then set to `False` by default. For more details check this issue: https://github.com/huggingface/transformers/issues/31884\n",
      "  warnings.warn(\n"
     ]
    },
    {
     "name": "stdout",
     "output_type": "stream",
     "text": [
      "goal_relevance\n"
     ]
    },
    {
     "name": "stderr",
     "output_type": "stream",
     "text": [
      "                                                                                                                                                                                                                      \r"
     ]
    },
    {
     "name": "stdout",
     "output_type": "stream",
     "text": [
      "Model Name: goal_relevance_bert-large-uncased, Test RMSE: 0.3179, Test MSE: 0.1010, Test MAE: 0.2596\n",
      "chance_responsblt\n"
     ]
    },
    {
     "name": "stderr",
     "output_type": "stream",
     "text": [
      "                                                                                                                                                                                                                      \r"
     ]
    },
    {
     "name": "stdout",
     "output_type": "stream",
     "text": [
      "Model Name: chance_responsblt_bert-large-uncased, Test RMSE: 0.3949, Test MSE: 0.1560, Test MAE: 0.3479\n",
      "chance_control\n"
     ]
    },
    {
     "name": "stderr",
     "output_type": "stream",
     "text": [
      "                                                                                                                                                                                                                      \r"
     ]
    },
    {
     "name": "stdout",
     "output_type": "stream",
     "text": [
      "Model Name: chance_control_bert-large-uncased, Test RMSE: 0.3404, Test MSE: 0.1158, Test MAE: 0.2769\n",
      "effort\n"
     ]
    },
    {
     "name": "stderr",
     "output_type": "stream",
     "text": [
      "                                                                                                                                                                                                                      \r"
     ]
    },
    {
     "name": "stdout",
     "output_type": "stream",
     "text": [
      "Model Name: effort_bert-large-uncased, Test RMSE: 0.3274, Test MSE: 0.1072, Test MAE: 0.2645\n",
      "accept_conseq\n"
     ]
    },
    {
     "name": "stderr",
     "output_type": "stream",
     "text": [
      "                                                                                                                                                                                                                      \r"
     ]
    },
    {
     "name": "stdout",
     "output_type": "stream",
     "text": [
      "Model Name: accept_conseq_bert-large-uncased, Test RMSE: 0.3465, Test MSE: 0.1201, Test MAE: 0.2890\n",
      "standards\n"
     ]
    },
    {
     "name": "stderr",
     "output_type": "stream",
     "text": [
      "                                                                                                                                                                                                                      \r"
     ]
    },
    {
     "name": "stdout",
     "output_type": "stream",
     "text": [
      "Model Name: standards_bert-large-uncased, Test RMSE: 0.3377, Test MSE: 0.1140, Test MAE: 0.2584\n",
      "other_control\n"
     ]
    },
    {
     "name": "stderr",
     "output_type": "stream",
     "text": [
      "                                                                                                                                                                                                                      \r"
     ]
    },
    {
     "name": "stdout",
     "output_type": "stream",
     "text": [
      "Model Name: other_control_bert-large-uncased, Test RMSE: 0.3465, Test MSE: 0.1201, Test MAE: 0.2870\n",
      "pleasantness\n"
     ]
    },
    {
     "name": "stderr",
     "output_type": "stream",
     "text": [
      "                                                                                                                                                                                                                      \r"
     ]
    },
    {
     "name": "stdout",
     "output_type": "stream",
     "text": [
      "Model Name: pleasantness_bert-large-uncased, Test RMSE: 0.2623, Test MSE: 0.0688, Test MAE: 0.1769\n",
      "predict_conseq\n"
     ]
    },
    {
     "name": "stderr",
     "output_type": "stream",
     "text": [
      "                                                                                                                                                                                                                      \r"
     ]
    },
    {
     "name": "stdout",
     "output_type": "stream",
     "text": [
      "Model Name: predict_conseq_bert-large-uncased, Test RMSE: 0.3542, Test MSE: 0.1255, Test MAE: 0.3058\n",
      "unpleasantness\n"
     ]
    },
    {
     "name": "stderr",
     "output_type": "stream",
     "text": [
      "                                                                                                                                                                                                                      \r"
     ]
    },
    {
     "name": "stdout",
     "output_type": "stream",
     "text": [
      "Model Name: unpleasantness_bert-large-uncased, Test RMSE: 0.2951, Test MSE: 0.0871, Test MAE: 0.2102\n",
      "goal_support\n"
     ]
    },
    {
     "name": "stderr",
     "output_type": "stream",
     "text": [
      "                                                                                                                                                                                                                      \r"
     ]
    },
    {
     "name": "stdout",
     "output_type": "stream",
     "text": [
      "Model Name: goal_support_bert-large-uncased, Test RMSE: 0.2839, Test MSE: 0.0806, Test MAE: 0.2181\n",
      "familiarity\n"
     ]
    },
    {
     "name": "stderr",
     "output_type": "stream",
     "text": [
      "                                                                                                                                                                                                                      \r"
     ]
    },
    {
     "name": "stdout",
     "output_type": "stream",
     "text": [
      "Model Name: familiarity_bert-large-uncased, Test RMSE: 0.3742, Test MSE: 0.1400, Test MAE: 0.3381\n",
      "self_control\n"
     ]
    },
    {
     "name": "stderr",
     "output_type": "stream",
     "text": [
      "                                                                                                                                                                                                                      \r"
     ]
    },
    {
     "name": "stdout",
     "output_type": "stream",
     "text": [
      "Model Name: self_control_bert-large-uncased, Test RMSE: 0.3282, Test MSE: 0.1077, Test MAE: 0.2703\n",
      "urgency\n"
     ]
    },
    {
     "name": "stderr",
     "output_type": "stream",
     "text": [
      "                                                                                                                                                                                                                      \r"
     ]
    },
    {
     "name": "stdout",
     "output_type": "stream",
     "text": [
      "Model Name: urgency_bert-large-uncased, Test RMSE: 0.3478, Test MSE: 0.1210, Test MAE: 0.2884\n",
      "suddenness\n"
     ]
    },
    {
     "name": "stderr",
     "output_type": "stream",
     "text": [
      "                                                                                                                                                                                                                      \r"
     ]
    },
    {
     "name": "stdout",
     "output_type": "stream",
     "text": [
      "Model Name: suddenness_bert-large-uncased, Test RMSE: 0.3273, Test MSE: 0.1072, Test MAE: 0.2799\n",
      "self_responsblt\n"
     ]
    },
    {
     "name": "stderr",
     "output_type": "stream",
     "text": [
      "                                                                                                                                                                                                                      \r"
     ]
    },
    {
     "name": "stdout",
     "output_type": "stream",
     "text": [
      "Model Name: self_responsblt_bert-large-uncased, Test RMSE: 0.4113, Test MSE: 0.1692, Test MAE: 0.3793\n",
      "attention\n"
     ]
    },
    {
     "name": "stderr",
     "output_type": "stream",
     "text": [
      "                                                                                                                                                                                                                      \r"
     ]
    },
    {
     "name": "stdout",
     "output_type": "stream",
     "text": [
      "Model Name: attention_bert-large-uncased, Test RMSE: 0.3290, Test MSE: 0.1082, Test MAE: 0.2798\n",
      "social_norms\n"
     ]
    },
    {
     "name": "stderr",
     "output_type": "stream",
     "text": [
      "                                                                                                                                                                                                                      \r"
     ]
    },
    {
     "name": "stdout",
     "output_type": "stream",
     "text": [
      "Model Name: social_norms_bert-large-uncased, Test RMSE: 0.2773, Test MSE: 0.0769, Test MAE: 0.1802\n",
      "predict_event\n"
     ]
    },
    {
     "name": "stderr",
     "output_type": "stream",
     "text": [
      "                                                                                                                                                                                                                      \r"
     ]
    },
    {
     "name": "stdout",
     "output_type": "stream",
     "text": [
      "Model Name: predict_event_bert-large-uncased, Test RMSE: 0.3805, Test MSE: 0.1447, Test MAE: 0.3387\n",
      "other_responsblt\n"
     ]
    },
    {
     "name": "stderr",
     "output_type": "stream",
     "text": [
      "                                                                                                                                                                                                                      \r"
     ]
    },
    {
     "name": "stdout",
     "output_type": "stream",
     "text": [
      "Model Name: other_responsblt_bert-large-uncased, Test RMSE: 0.3404, Test MSE: 0.1158, Test MAE: 0.2793\n",
      "not_consider\n"
     ]
    },
    {
     "name": "stderr",
     "output_type": "stream",
     "text": [
      "                                                                                                                                                                                                                      \r"
     ]
    },
    {
     "name": "stdout",
     "output_type": "stream",
     "text": [
      "Model Name: not_consider_bert-large-uncased, Test RMSE: 0.3507, Test MSE: 0.1230, Test MAE: 0.2889\n"
     ]
    },
    {
     "name": "stderr",
     "output_type": "stream",
     "text": [
      "/home/adebnath/anaconda3/lib/python3.11/site-packages/transformers/tokenization_utils_base.py:1601: FutureWarning: `clean_up_tokenization_spaces` was not set. It will be set to `True` by default. This behavior will be depracted in transformers v4.45, and will be then set to `False` by default. For more details check this issue: https://github.com/huggingface/transformers/issues/31884\n",
      "  warnings.warn(\n"
     ]
    },
    {
     "name": "stdout",
     "output_type": "stream",
     "text": [
      "predict_event\n"
     ]
    },
    {
     "name": "stderr",
     "output_type": "stream",
     "text": [
      "                                                                                                                                                                                                                      \r"
     ]
    },
    {
     "name": "stdout",
     "output_type": "stream",
     "text": [
      "Model Name: predict_event_microsoft, Test RMSE: 0.3507, Test MSE: 0.1230, Test MAE: 0.3002\n",
      "effort\n"
     ]
    },
    {
     "name": "stderr",
     "output_type": "stream",
     "text": [
      "                                                                                                                                                                                                                      \r"
     ]
    },
    {
     "name": "stdout",
     "output_type": "stream",
     "text": [
      "Model Name: effort_microsoft, Test RMSE: 0.3309, Test MSE: 0.1095, Test MAE: 0.2781\n",
      "attention\n"
     ]
    },
    {
     "name": "stderr",
     "output_type": "stream",
     "text": [
      "                                                                                                                                                                                                                      \r"
     ]
    },
    {
     "name": "stdout",
     "output_type": "stream",
     "text": [
      "Model Name: attention_microsoft, Test RMSE: 0.3157, Test MSE: 0.0997, Test MAE: 0.2686\n",
      "standards\n"
     ]
    },
    {
     "name": "stderr",
     "output_type": "stream",
     "text": [
      "                                                                                                                                                                                                                      \r"
     ]
    },
    {
     "name": "stdout",
     "output_type": "stream",
     "text": [
      "Model Name: standards_microsoft, Test RMSE: 0.3434, Test MSE: 0.1179, Test MAE: 0.2753\n",
      "chance_responsblt\n"
     ]
    },
    {
     "name": "stderr",
     "output_type": "stream",
     "text": [
      "                                                                                                                                                                                                                      \r"
     ]
    },
    {
     "name": "stdout",
     "output_type": "stream",
     "text": [
      "Model Name: chance_responsblt_microsoft, Test RMSE: 0.3575, Test MSE: 0.1278, Test MAE: 0.3068\n",
      "unpleasantness\n"
     ]
    },
    {
     "name": "stderr",
     "output_type": "stream",
     "text": [
      "                                                                                                                                                                                                                      \r"
     ]
    },
    {
     "name": "stdout",
     "output_type": "stream",
     "text": [
      "Model Name: unpleasantness_microsoft, Test RMSE: 0.3133, Test MSE: 0.0981, Test MAE: 0.2261\n",
      "goal_support\n"
     ]
    },
    {
     "name": "stderr",
     "output_type": "stream",
     "text": [
      "                                                                                                                                                                                                                      \r"
     ]
    },
    {
     "name": "stdout",
     "output_type": "stream",
     "text": [
      "Model Name: goal_support_microsoft, Test RMSE: 0.3089, Test MSE: 0.0954, Test MAE: 0.2551\n",
      "accept_conseq\n"
     ]
    },
    {
     "name": "stderr",
     "output_type": "stream",
     "text": [
      "                                                                                                                                                                                                                      \r"
     ]
    },
    {
     "name": "stdout",
     "output_type": "stream",
     "text": [
      "Model Name: accept_conseq_microsoft, Test RMSE: 0.3587, Test MSE: 0.1287, Test MAE: 0.3037\n",
      "self_control\n"
     ]
    },
    {
     "name": "stderr",
     "output_type": "stream",
     "text": [
      "                                                                                                                                                                                                                      \r"
     ]
    },
    {
     "name": "stdout",
     "output_type": "stream",
     "text": [
      "Model Name: self_control_microsoft, Test RMSE: 0.3329, Test MSE: 0.1108, Test MAE: 0.2743\n",
      "not_consider\n"
     ]
    },
    {
     "name": "stderr",
     "output_type": "stream",
     "text": [
      "                                                                                                                                                                                                                      \r"
     ]
    },
    {
     "name": "stdout",
     "output_type": "stream",
     "text": [
      "Model Name: not_consider_microsoft, Test RMSE: 0.3607, Test MSE: 0.1301, Test MAE: 0.3058\n",
      "other_control\n"
     ]
    },
    {
     "name": "stderr",
     "output_type": "stream",
     "text": [
      "                                                                                                                                                                                                                      \r"
     ]
    },
    {
     "name": "stdout",
     "output_type": "stream",
     "text": [
      "Model Name: other_control_microsoft, Test RMSE: 0.3518, Test MSE: 0.1238, Test MAE: 0.2893\n",
      "urgency\n"
     ]
    },
    {
     "name": "stderr",
     "output_type": "stream",
     "text": [
      "                                                                                                                                                                                                                      \r"
     ]
    },
    {
     "name": "stdout",
     "output_type": "stream",
     "text": [
      "Model Name: urgency_microsoft, Test RMSE: 0.3569, Test MSE: 0.1274, Test MAE: 0.2964\n",
      "pleasantness\n"
     ]
    },
    {
     "name": "stderr",
     "output_type": "stream",
     "text": [
      "                                                                                                                                                                                                                      \r"
     ]
    },
    {
     "name": "stdout",
     "output_type": "stream",
     "text": [
      "Model Name: pleasantness_microsoft, Test RMSE: 0.2911, Test MSE: 0.0847, Test MAE: 0.2096\n",
      "suddenness\n"
     ]
    },
    {
     "name": "stderr",
     "output_type": "stream",
     "text": [
      "                                                                                                                                                                                                                      \r"
     ]
    },
    {
     "name": "stdout",
     "output_type": "stream",
     "text": [
      "Model Name: suddenness_microsoft, Test RMSE: 0.3174, Test MSE: 0.1007, Test MAE: 0.2592\n",
      "other_responsblt\n"
     ]
    },
    {
     "name": "stderr",
     "output_type": "stream",
     "text": [
      "                                                                                                                                                                                                                      \r"
     ]
    },
    {
     "name": "stdout",
     "output_type": "stream",
     "text": [
      "Model Name: other_responsblt_microsoft, Test RMSE: 0.3502, Test MSE: 0.1227, Test MAE: 0.2808\n",
      "predict_conseq\n"
     ]
    },
    {
     "name": "stderr",
     "output_type": "stream",
     "text": [
      "                                                                                                                                                                                                                      \r"
     ]
    },
    {
     "name": "stdout",
     "output_type": "stream",
     "text": [
      "Model Name: predict_conseq_microsoft, Test RMSE: 0.3603, Test MSE: 0.1298, Test MAE: 0.3128\n",
      "chance_control\n"
     ]
    },
    {
     "name": "stderr",
     "output_type": "stream",
     "text": [
      "                                                                                                                                                                                                                      \r"
     ]
    },
    {
     "name": "stdout",
     "output_type": "stream",
     "text": [
      "Model Name: chance_control_microsoft, Test RMSE: 0.3494, Test MSE: 0.1221, Test MAE: 0.2821\n",
      "goal_relevance\n"
     ]
    },
    {
     "name": "stderr",
     "output_type": "stream",
     "text": [
      "                                                                                                                                                                                                                      \r"
     ]
    },
    {
     "name": "stdout",
     "output_type": "stream",
     "text": [
      "Model Name: goal_relevance_microsoft, Test RMSE: 0.3231, Test MSE: 0.1044, Test MAE: 0.2670\n",
      "familiarity\n"
     ]
    },
    {
     "name": "stderr",
     "output_type": "stream",
     "text": [
      "                                                                                                                                                                                                                      \r"
     ]
    },
    {
     "name": "stdout",
     "output_type": "stream",
     "text": [
      "Model Name: familiarity_microsoft, Test RMSE: 0.3327, Test MSE: 0.1107, Test MAE: 0.2863\n",
      "social_norms\n"
     ]
    },
    {
     "name": "stderr",
     "output_type": "stream",
     "text": [
      "                                                                                                                                                                                                                      \r"
     ]
    },
    {
     "name": "stdout",
     "output_type": "stream",
     "text": [
      "Model Name: social_norms_microsoft, Test RMSE: 0.2889, Test MSE: 0.0835, Test MAE: 0.2033\n",
      "self_responsblt\n"
     ]
    },
    {
     "name": "stderr",
     "output_type": "stream",
     "text": [
      "                                                                                                                                                                                                                      \r"
     ]
    },
    {
     "name": "stdout",
     "output_type": "stream",
     "text": [
      "Model Name: self_responsblt_microsoft, Test RMSE: 0.3256, Test MSE: 0.1060, Test MAE: 0.2644\n"
     ]
    },
    {
     "name": "stderr",
     "output_type": "stream",
     "text": [
      "/home/adebnath/anaconda3/lib/python3.11/site-packages/transformers/tokenization_utils_base.py:1601: FutureWarning: `clean_up_tokenization_spaces` was not set. It will be set to `True` by default. This behavior will be depracted in transformers v4.45, and will be then set to `False` by default. For more details check this issue: https://github.com/huggingface/transformers/issues/31884\n",
      "  warnings.warn(\n"
     ]
    },
    {
     "name": "stdout",
     "output_type": "stream",
     "text": [
      "accept_conseq\n"
     ]
    },
    {
     "name": "stderr",
     "output_type": "stream",
     "text": [
      "                                                                                                                                                                                                                      \r"
     ]
    },
    {
     "name": "stdout",
     "output_type": "stream",
     "text": [
      "Model Name: accept_conseq_distilbert-base-uncased, Test RMSE: 0.3451, Test MSE: 0.1191, Test MAE: 0.2934\n",
      "other_responsblt\n"
     ]
    },
    {
     "name": "stderr",
     "output_type": "stream",
     "text": [
      "                                                                                                                                                                                                                      \r"
     ]
    },
    {
     "name": "stdout",
     "output_type": "stream",
     "text": [
      "Model Name: other_responsblt_distilbert-base-uncased, Test RMSE: 0.3480, Test MSE: 0.1211, Test MAE: 0.2759\n",
      "self_responsblt\n"
     ]
    },
    {
     "name": "stderr",
     "output_type": "stream",
     "text": [
      "                                                                                                                                                                                                                      \r"
     ]
    },
    {
     "name": "stdout",
     "output_type": "stream",
     "text": [
      "Model Name: self_responsblt_distilbert-base-uncased, Test RMSE: 0.3217, Test MSE: 0.1035, Test MAE: 0.2501\n",
      "goal_relevance\n"
     ]
    },
    {
     "name": "stderr",
     "output_type": "stream",
     "text": [
      "                                                                                                                                                                                                                      \r"
     ]
    },
    {
     "name": "stdout",
     "output_type": "stream",
     "text": [
      "Model Name: goal_relevance_distilbert-base-uncased, Test RMSE: 0.3218, Test MSE: 0.1035, Test MAE: 0.2630\n",
      "attention\n"
     ]
    },
    {
     "name": "stderr",
     "output_type": "stream",
     "text": [
      "                                                                                                                                                                                                                      \r"
     ]
    },
    {
     "name": "stdout",
     "output_type": "stream",
     "text": [
      "Model Name: attention_distilbert-base-uncased, Test RMSE: 0.3078, Test MSE: 0.0947, Test MAE: 0.2494\n",
      "self_control\n"
     ]
    },
    {
     "name": "stderr",
     "output_type": "stream",
     "text": [
      "                                                                                                                                                                                                                      \r"
     ]
    },
    {
     "name": "stdout",
     "output_type": "stream",
     "text": [
      "Model Name: self_control_distilbert-base-uncased, Test RMSE: 0.3399, Test MSE: 0.1155, Test MAE: 0.2836\n",
      "standards\n"
     ]
    },
    {
     "name": "stderr",
     "output_type": "stream",
     "text": [
      "                                                                                                                                                                                                                      \r"
     ]
    },
    {
     "name": "stdout",
     "output_type": "stream",
     "text": [
      "Model Name: standards_distilbert-base-uncased, Test RMSE: 0.3415, Test MSE: 0.1166, Test MAE: 0.2612\n",
      "predict_conseq\n"
     ]
    },
    {
     "name": "stderr",
     "output_type": "stream",
     "text": [
      "                                                                                                                                                                                                                      \r"
     ]
    },
    {
     "name": "stdout",
     "output_type": "stream",
     "text": [
      "Model Name: predict_conseq_distilbert-base-uncased, Test RMSE: 0.3539, Test MSE: 0.1253, Test MAE: 0.3032\n",
      "pleasantness\n"
     ]
    },
    {
     "name": "stderr",
     "output_type": "stream",
     "text": [
      "                                                                                                                                                                                                                      \r"
     ]
    },
    {
     "name": "stdout",
     "output_type": "stream",
     "text": [
      "Model Name: pleasantness_distilbert-base-uncased, Test RMSE: 0.2742, Test MSE: 0.0752, Test MAE: 0.1873\n",
      "familiarity\n"
     ]
    },
    {
     "name": "stderr",
     "output_type": "stream",
     "text": [
      "                                                                                                                                                                                                                      \r"
     ]
    },
    {
     "name": "stdout",
     "output_type": "stream",
     "text": [
      "Model Name: familiarity_distilbert-base-uncased, Test RMSE: 0.3190, Test MSE: 0.1018, Test MAE: 0.2720\n",
      "urgency\n"
     ]
    },
    {
     "name": "stderr",
     "output_type": "stream",
     "text": [
      "                                                                                                                                                                                                                      \r"
     ]
    },
    {
     "name": "stdout",
     "output_type": "stream",
     "text": [
      "Model Name: urgency_distilbert-base-uncased, Test RMSE: 0.3548, Test MSE: 0.1259, Test MAE: 0.2937\n",
      "chance_control\n"
     ]
    },
    {
     "name": "stderr",
     "output_type": "stream",
     "text": [
      "                                                                                                                                                                                                                      \r"
     ]
    },
    {
     "name": "stdout",
     "output_type": "stream",
     "text": [
      "Model Name: chance_control_distilbert-base-uncased, Test RMSE: 0.3427, Test MSE: 0.1174, Test MAE: 0.2784\n",
      "effort\n"
     ]
    },
    {
     "name": "stderr",
     "output_type": "stream",
     "text": [
      "                                                                                                                                                                                                                      \r"
     ]
    },
    {
     "name": "stdout",
     "output_type": "stream",
     "text": [
      "Model Name: effort_distilbert-base-uncased, Test RMSE: 0.3325, Test MSE: 0.1105, Test MAE: 0.2773\n",
      "goal_support\n"
     ]
    },
    {
     "name": "stderr",
     "output_type": "stream",
     "text": [
      "                                                                                                                                                                                                                      \r"
     ]
    },
    {
     "name": "stdout",
     "output_type": "stream",
     "text": [
      "Model Name: goal_support_distilbert-base-uncased, Test RMSE: 0.2967, Test MSE: 0.0880, Test MAE: 0.2376\n",
      "chance_responsblt\n"
     ]
    },
    {
     "name": "stderr",
     "output_type": "stream",
     "text": [
      "                                                                                                                                                                                                                      \r"
     ]
    },
    {
     "name": "stdout",
     "output_type": "stream",
     "text": [
      "Model Name: chance_responsblt_distilbert-base-uncased, Test RMSE: 0.3652, Test MSE: 0.1334, Test MAE: 0.2983\n",
      "social_norms\n"
     ]
    },
    {
     "name": "stderr",
     "output_type": "stream",
     "text": [
      "                                                                                                                                                                                                                      \r"
     ]
    },
    {
     "name": "stdout",
     "output_type": "stream",
     "text": [
      "Model Name: social_norms_distilbert-base-uncased, Test RMSE: 0.2792, Test MSE: 0.0779, Test MAE: 0.2189\n",
      "predict_event\n"
     ]
    },
    {
     "name": "stderr",
     "output_type": "stream",
     "text": [
      "                                                                                                                                                                                                                      \r"
     ]
    },
    {
     "name": "stdout",
     "output_type": "stream",
     "text": [
      "Model Name: predict_event_distilbert-base-uncased, Test RMSE: 0.3425, Test MSE: 0.1173, Test MAE: 0.2910\n",
      "unpleasantness\n"
     ]
    },
    {
     "name": "stderr",
     "output_type": "stream",
     "text": [
      "                                                                                                                                                                                                                      \r"
     ]
    },
    {
     "name": "stdout",
     "output_type": "stream",
     "text": [
      "Model Name: unpleasantness_distilbert-base-uncased, Test RMSE: 0.3002, Test MSE: 0.0901, Test MAE: 0.2140\n",
      "suddenness\n"
     ]
    },
    {
     "name": "stderr",
     "output_type": "stream",
     "text": [
      "                                                                                                                                                                                                                      \r"
     ]
    },
    {
     "name": "stdout",
     "output_type": "stream",
     "text": [
      "Model Name: suddenness_distilbert-base-uncased, Test RMSE: 0.3205, Test MSE: 0.1027, Test MAE: 0.2634\n",
      "not_consider\n"
     ]
    },
    {
     "name": "stderr",
     "output_type": "stream",
     "text": [
      "                                                                                                                                                                                                                      \r"
     ]
    },
    {
     "name": "stdout",
     "output_type": "stream",
     "text": [
      "Model Name: not_consider_distilbert-base-uncased, Test RMSE: 0.3583, Test MSE: 0.1284, Test MAE: 0.3061\n",
      "other_control\n"
     ]
    },
    {
     "name": "stderr",
     "output_type": "stream",
     "text": [
      "                                                                                                                                                                                                                      \r"
     ]
    },
    {
     "name": "stdout",
     "output_type": "stream",
     "text": [
      "Model Name: other_control_distilbert-base-uncased, Test RMSE: 0.3527, Test MSE: 0.1244, Test MAE: 0.3033\n",
      "familiarity\n"
     ]
    },
    {
     "name": "stderr",
     "output_type": "stream",
     "text": [
      "                                                                                                                                                                                                                      \r"
     ]
    },
    {
     "name": "stdout",
     "output_type": "stream",
     "text": [
      "Model Name: familiarity_google-t5, Test RMSE: 0.3471, Test MSE: 0.1204, Test MAE: 0.3069\n",
      "goal_support\n"
     ]
    },
    {
     "name": "stderr",
     "output_type": "stream",
     "text": [
      "                                                                                                                                                                                                                      \r"
     ]
    },
    {
     "name": "stdout",
     "output_type": "stream",
     "text": [
      "Model Name: goal_support_google-t5, Test RMSE: 0.3169, Test MSE: 0.1004, Test MAE: 0.2629\n",
      "suddenness\n"
     ]
    },
    {
     "name": "stderr",
     "output_type": "stream",
     "text": [
      "                                                                                                                                                                                                                      \r"
     ]
    },
    {
     "name": "stdout",
     "output_type": "stream",
     "text": [
      "Model Name: suddenness_google-t5, Test RMSE: 0.3418, Test MSE: 0.1168, Test MAE: 0.2960\n",
      "social_norms\n"
     ]
    },
    {
     "name": "stderr",
     "output_type": "stream",
     "text": [
      "                                                                                                                                                                                                                      \r"
     ]
    },
    {
     "name": "stdout",
     "output_type": "stream",
     "text": [
      "Model Name: social_norms_google-t5, Test RMSE: 0.2970, Test MSE: 0.0882, Test MAE: 0.2309\n",
      "not_consider\n"
     ]
    },
    {
     "name": "stderr",
     "output_type": "stream",
     "text": [
      "                                                                                                                                                                                                                      \r"
     ]
    },
    {
     "name": "stdout",
     "output_type": "stream",
     "text": [
      "Model Name: not_consider_google-t5, Test RMSE: 0.3633, Test MSE: 0.1320, Test MAE: 0.3132\n",
      "chance_responsblt\n"
     ]
    },
    {
     "name": "stderr",
     "output_type": "stream",
     "text": [
      "                                                                                                                                                                                                                      \r"
     ]
    },
    {
     "name": "stdout",
     "output_type": "stream",
     "text": [
      "Model Name: chance_responsblt_google-t5, Test RMSE: 0.3697, Test MSE: 0.1366, Test MAE: 0.3237\n",
      "self_responsblt\n"
     ]
    },
    {
     "name": "stderr",
     "output_type": "stream",
     "text": [
      "                                                                                                                                                                                                                      \r"
     ]
    },
    {
     "name": "stdout",
     "output_type": "stream",
     "text": [
      "Model Name: self_responsblt_google-t5, Test RMSE: 0.3674, Test MSE: 0.1350, Test MAE: 0.3087\n",
      "other_control\n"
     ]
    },
    {
     "name": "stderr",
     "output_type": "stream",
     "text": [
      "                                                                                                                                                                                                                      \r"
     ]
    },
    {
     "name": "stdout",
     "output_type": "stream",
     "text": [
      "Model Name: other_control_google-t5, Test RMSE: 0.3667, Test MSE: 0.1345, Test MAE: 0.3141\n",
      "pleasantness\n"
     ]
    },
    {
     "name": "stderr",
     "output_type": "stream",
     "text": [
      "                                                                                                                                                                                                                      \r"
     ]
    },
    {
     "name": "stdout",
     "output_type": "stream",
     "text": [
      "Model Name: pleasantness_google-t5, Test RMSE: 0.3046, Test MSE: 0.0928, Test MAE: 0.2362\n",
      "effort\n"
     ]
    },
    {
     "name": "stderr",
     "output_type": "stream",
     "text": [
      "                                                                                                                                                                                                                      \r"
     ]
    },
    {
     "name": "stdout",
     "output_type": "stream",
     "text": [
      "Model Name: effort_google-t5, Test RMSE: 0.3520, Test MSE: 0.1239, Test MAE: 0.3030\n",
      "predict_conseq\n"
     ]
    },
    {
     "name": "stderr",
     "output_type": "stream",
     "text": [
      "                                                                                                                                                                                                                      \r"
     ]
    },
    {
     "name": "stdout",
     "output_type": "stream",
     "text": [
      "Model Name: predict_conseq_google-t5, Test RMSE: 0.3645, Test MSE: 0.1329, Test MAE: 0.3146\n",
      "accept_conseq\n"
     ]
    },
    {
     "name": "stderr",
     "output_type": "stream",
     "text": [
      "                                                                                                                                                                                                                      \r"
     ]
    },
    {
     "name": "stdout",
     "output_type": "stream",
     "text": [
      "Model Name: accept_conseq_google-t5, Test RMSE: 0.3567, Test MSE: 0.1273, Test MAE: 0.3032\n",
      "predict_event\n"
     ]
    },
    {
     "name": "stderr",
     "output_type": "stream",
     "text": [
      "                                                                                                                                                                                                                      \r"
     ]
    },
    {
     "name": "stdout",
     "output_type": "stream",
     "text": [
      "Model Name: predict_event_google-t5, Test RMSE: 0.3737, Test MSE: 0.1397, Test MAE: 0.3283\n",
      "urgency\n"
     ]
    },
    {
     "name": "stderr",
     "output_type": "stream",
     "text": [
      "                                                                                                                                                                                                                      \r"
     ]
    },
    {
     "name": "stdout",
     "output_type": "stream",
     "text": [
      "Model Name: urgency_google-t5, Test RMSE: 0.3623, Test MSE: 0.1312, Test MAE: 0.3131\n",
      "other_responsblt\n"
     ]
    },
    {
     "name": "stderr",
     "output_type": "stream",
     "text": [
      "                                                                                                                                                                                                                      \r"
     ]
    },
    {
     "name": "stdout",
     "output_type": "stream",
     "text": [
      "Model Name: other_responsblt_google-t5, Test RMSE: 0.3870, Test MSE: 0.1497, Test MAE: 0.3343\n",
      "self_control\n"
     ]
    },
    {
     "name": "stderr",
     "output_type": "stream",
     "text": [
      "                                                                                                                                                                                                                      \r"
     ]
    },
    {
     "name": "stdout",
     "output_type": "stream",
     "text": [
      "Model Name: self_control_google-t5, Test RMSE: 0.3497, Test MSE: 0.1223, Test MAE: 0.3011\n",
      "chance_control\n"
     ]
    },
    {
     "name": "stderr",
     "output_type": "stream",
     "text": [
      "                                                                                                                                                                                                                      \r"
     ]
    },
    {
     "name": "stdout",
     "output_type": "stream",
     "text": [
      "Model Name: chance_control_google-t5, Test RMSE: 0.3691, Test MSE: 0.1363, Test MAE: 0.3178\n",
      "standards\n"
     ]
    },
    {
     "name": "stderr",
     "output_type": "stream",
     "text": [
      "                                                                                                                                                                                                                      \r"
     ]
    },
    {
     "name": "stdout",
     "output_type": "stream",
     "text": [
      "Model Name: standards_google-t5, Test RMSE: 0.3477, Test MSE: 0.1209, Test MAE: 0.2913\n",
      "goal_relevance\n"
     ]
    },
    {
     "name": "stderr",
     "output_type": "stream",
     "text": [
      "                                                                                                                                                                                                                      \r"
     ]
    },
    {
     "name": "stdout",
     "output_type": "stream",
     "text": [
      "Model Name: goal_relevance_google-t5, Test RMSE: 0.3456, Test MSE: 0.1194, Test MAE: 0.2969\n",
      "attention\n"
     ]
    },
    {
     "name": "stderr",
     "output_type": "stream",
     "text": [
      "                                                                                                                                                                                                                      \r"
     ]
    },
    {
     "name": "stdout",
     "output_type": "stream",
     "text": [
      "Model Name: attention_google-t5, Test RMSE: 0.3182, Test MSE: 0.1013, Test MAE: 0.2595\n",
      "unpleasantness\n"
     ]
    },
    {
     "name": "stderr",
     "output_type": "stream",
     "text": [
      "                                                                                                                                                                                                                      \r"
     ]
    },
    {
     "name": "stdout",
     "output_type": "stream",
     "text": [
      "Model Name: unpleasantness_google-t5, Test RMSE: 0.3243, Test MSE: 0.1052, Test MAE: 0.2555\n"
     ]
    },
    {
     "name": "stderr",
     "output_type": "stream",
     "text": [
      "/home/adebnath/anaconda3/lib/python3.11/site-packages/transformers/tokenization_utils_base.py:1601: FutureWarning: `clean_up_tokenization_spaces` was not set. It will be set to `True` by default. This behavior will be depracted in transformers v4.45, and will be then set to `False` by default. For more details check this issue: https://github.com/huggingface/transformers/issues/31884\n",
      "  warnings.warn(\n"
     ]
    },
    {
     "name": "stdout",
     "output_type": "stream",
     "text": [
      "other_responsblt\n"
     ]
    },
    {
     "name": "stderr",
     "output_type": "stream",
     "text": [
      "                                                                                                                                                                                                                      \r"
     ]
    },
    {
     "name": "stdout",
     "output_type": "stream",
     "text": [
      "Model Name: other_responsblt_roberta-base, Test RMSE: 0.3195, Test MSE: 0.1021, Test MAE: 0.2434\n",
      "goal_support\n"
     ]
    },
    {
     "name": "stderr",
     "output_type": "stream",
     "text": [
      "                                                                                                                                                                                                                      \r"
     ]
    },
    {
     "name": "stdout",
     "output_type": "stream",
     "text": [
      "Model Name: goal_support_roberta-base, Test RMSE: 0.2862, Test MSE: 0.0819, Test MAE: 0.2281\n",
      "unpleasantness\n"
     ]
    },
    {
     "name": "stderr",
     "output_type": "stream",
     "text": [
      "                                                                                                                                                                                                                      \r"
     ]
    },
    {
     "name": "stdout",
     "output_type": "stream",
     "text": [
      "Model Name: unpleasantness_roberta-base, Test RMSE: 0.2880, Test MSE: 0.0829, Test MAE: 0.2282\n",
      "effort\n"
     ]
    },
    {
     "name": "stderr",
     "output_type": "stream",
     "text": [
      "                                                                                                                                                                                                                      \r"
     ]
    },
    {
     "name": "stdout",
     "output_type": "stream",
     "text": [
      "Model Name: effort_roberta-base, Test RMSE: 0.3340, Test MSE: 0.1115, Test MAE: 0.2791\n",
      "accept_conseq\n"
     ]
    },
    {
     "name": "stderr",
     "output_type": "stream",
     "text": [
      "                                                                                                                                                                                                                      \r"
     ]
    },
    {
     "name": "stdout",
     "output_type": "stream",
     "text": [
      "Model Name: accept_conseq_roberta-base, Test RMSE: 0.3458, Test MSE: 0.1196, Test MAE: 0.2957\n",
      "chance_control\n"
     ]
    },
    {
     "name": "stderr",
     "output_type": "stream",
     "text": [
      "                                                                                                                                                                                                                      \r"
     ]
    },
    {
     "name": "stdout",
     "output_type": "stream",
     "text": [
      "Model Name: chance_control_roberta-base, Test RMSE: 0.3373, Test MSE: 0.1137, Test MAE: 0.2742\n",
      "predict_event\n"
     ]
    },
    {
     "name": "stderr",
     "output_type": "stream",
     "text": [
      "                                                                                                                                                                                                                      \r"
     ]
    },
    {
     "name": "stdout",
     "output_type": "stream",
     "text": [
      "Model Name: predict_event_roberta-base, Test RMSE: 0.3456, Test MSE: 0.1194, Test MAE: 0.2831\n",
      "social_norms\n"
     ]
    },
    {
     "name": "stderr",
     "output_type": "stream",
     "text": [
      "                                                                                                                                                                                                                      \r"
     ]
    },
    {
     "name": "stdout",
     "output_type": "stream",
     "text": [
      "Model Name: social_norms_roberta-base, Test RMSE: 0.2734, Test MSE: 0.0748, Test MAE: 0.2091\n",
      "goal_relevance\n"
     ]
    },
    {
     "name": "stderr",
     "output_type": "stream",
     "text": [
      "                                                                                                                                                                                                                      \r"
     ]
    },
    {
     "name": "stdout",
     "output_type": "stream",
     "text": [
      "Model Name: goal_relevance_roberta-base, Test RMSE: 0.3139, Test MSE: 0.0985, Test MAE: 0.2571\n",
      "suddenness\n"
     ]
    },
    {
     "name": "stderr",
     "output_type": "stream",
     "text": [
      "                                                                                                                                                                                                                      \r"
     ]
    },
    {
     "name": "stdout",
     "output_type": "stream",
     "text": [
      "Model Name: suddenness_roberta-base, Test RMSE: 0.3191, Test MSE: 0.1018, Test MAE: 0.2767\n",
      "urgency\n"
     ]
    },
    {
     "name": "stderr",
     "output_type": "stream",
     "text": [
      "                                                                                                                                                                                                                      \r"
     ]
    },
    {
     "name": "stdout",
     "output_type": "stream",
     "text": [
      "Model Name: urgency_roberta-base, Test RMSE: 0.3557, Test MSE: 0.1266, Test MAE: 0.2869\n",
      "attention\n"
     ]
    },
    {
     "name": "stderr",
     "output_type": "stream",
     "text": [
      "                                                                                                                                                                                                                      \r"
     ]
    },
    {
     "name": "stdout",
     "output_type": "stream",
     "text": [
      "Model Name: attention_roberta-base, Test RMSE: 0.3287, Test MSE: 0.1081, Test MAE: 0.2765\n",
      "self_control\n"
     ]
    },
    {
     "name": "stderr",
     "output_type": "stream",
     "text": [
      "                                                                                                                                                                                                                      \r"
     ]
    },
    {
     "name": "stdout",
     "output_type": "stream",
     "text": [
      "Model Name: self_control_roberta-base, Test RMSE: 0.3255, Test MSE: 0.1059, Test MAE: 0.2698\n",
      "other_control\n"
     ]
    },
    {
     "name": "stderr",
     "output_type": "stream",
     "text": [
      "                                                                                                                                                                                                                      \r"
     ]
    },
    {
     "name": "stdout",
     "output_type": "stream",
     "text": [
      "Model Name: other_control_roberta-base, Test RMSE: 0.3260, Test MSE: 0.1063, Test MAE: 0.2607\n",
      "chance_responsblt\n"
     ]
    },
    {
     "name": "stderr",
     "output_type": "stream",
     "text": [
      "                                                                                                                                                                                                                      \r"
     ]
    },
    {
     "name": "stdout",
     "output_type": "stream",
     "text": [
      "Model Name: chance_responsblt_roberta-base, Test RMSE: 0.3480, Test MSE: 0.1211, Test MAE: 0.2864\n",
      "pleasantness\n"
     ]
    },
    {
     "name": "stderr",
     "output_type": "stream",
     "text": [
      "                                                                                                                                                                                                                      \r"
     ]
    },
    {
     "name": "stdout",
     "output_type": "stream",
     "text": [
      "Model Name: pleasantness_roberta-base, Test RMSE: 0.2564, Test MSE: 0.0657, Test MAE: 0.1787\n",
      "standards\n"
     ]
    },
    {
     "name": "stderr",
     "output_type": "stream",
     "text": [
      "                                                                                                                                                                                                                      \r"
     ]
    },
    {
     "name": "stdout",
     "output_type": "stream",
     "text": [
      "Model Name: standards_roberta-base, Test RMSE: 0.3351, Test MSE: 0.1123, Test MAE: 0.2509\n",
      "self_responsblt\n"
     ]
    },
    {
     "name": "stderr",
     "output_type": "stream",
     "text": [
      "                                                                                                                                                                                                                      \r"
     ]
    },
    {
     "name": "stdout",
     "output_type": "stream",
     "text": [
      "Model Name: self_responsblt_roberta-base, Test RMSE: 0.2959, Test MSE: 0.0875, Test MAE: 0.2289\n",
      "familiarity\n"
     ]
    },
    {
     "name": "stderr",
     "output_type": "stream",
     "text": [
      "                                                                                                                                                                                                                      \r"
     ]
    },
    {
     "name": "stdout",
     "output_type": "stream",
     "text": [
      "Model Name: familiarity_roberta-base, Test RMSE: 0.3272, Test MSE: 0.1071, Test MAE: 0.2740\n",
      "predict_conseq\n"
     ]
    },
    {
     "name": "stderr",
     "output_type": "stream",
     "text": [
      "                                                                                                                                                                                                                      \r"
     ]
    },
    {
     "name": "stdout",
     "output_type": "stream",
     "text": [
      "Model Name: predict_conseq_roberta-base, Test RMSE: 0.3514, Test MSE: 0.1235, Test MAE: 0.3023\n",
      "not_consider\n"
     ]
    },
    {
     "name": "stderr",
     "output_type": "stream",
     "text": [
      "                                                                                                                                                                                                                      \r"
     ]
    },
    {
     "name": "stdout",
     "output_type": "stream",
     "text": [
      "Model Name: not_consider_roberta-base, Test RMSE: 0.3444, Test MSE: 0.1186, Test MAE: 0.2793\n"
     ]
    },
    {
     "name": "stderr",
     "output_type": "stream",
     "text": [
      "/home/adebnath/anaconda3/lib/python3.11/site-packages/transformers/tokenization_utils_base.py:1601: FutureWarning: `clean_up_tokenization_spaces` was not set. It will be set to `True` by default. This behavior will be depracted in transformers v4.45, and will be then set to `False` by default. For more details check this issue: https://github.com/huggingface/transformers/issues/31884\n",
      "  warnings.warn(\n"
     ]
    },
    {
     "name": "stdout",
     "output_type": "stream",
     "text": [
      "standards\n"
     ]
    },
    {
     "name": "stderr",
     "output_type": "stream",
     "text": [
      "                                                                                                                                                                                                                      \r"
     ]
    },
    {
     "name": "stdout",
     "output_type": "stream",
     "text": [
      "Model Name: standards_FacebookAI, Test RMSE: 0.3367, Test MSE: 0.1134, Test MAE: 0.2526\n",
      "predict_event\n"
     ]
    },
    {
     "name": "stderr",
     "output_type": "stream",
     "text": [
      "                                                                                                                                                                                                                      \r"
     ]
    },
    {
     "name": "stdout",
     "output_type": "stream",
     "text": [
      "Model Name: predict_event_FacebookAI, Test RMSE: 0.3814, Test MSE: 0.1454, Test MAE: 0.3371\n",
      "familiarity\n"
     ]
    },
    {
     "name": "stderr",
     "output_type": "stream",
     "text": [
      "                                                                                                                                                                                                                      \r"
     ]
    },
    {
     "name": "stdout",
     "output_type": "stream",
     "text": [
      "Model Name: familiarity_FacebookAI, Test RMSE: 0.3174, Test MSE: 0.1008, Test MAE: 0.2511\n",
      "accept_conseq\n"
     ]
    },
    {
     "name": "stderr",
     "output_type": "stream",
     "text": [
      "                                                                                                                                                                                                                      \r"
     ]
    },
    {
     "name": "stdout",
     "output_type": "stream",
     "text": [
      "Model Name: accept_conseq_FacebookAI, Test RMSE: 0.3488, Test MSE: 0.1216, Test MAE: 0.2962\n",
      "not_consider\n"
     ]
    },
    {
     "name": "stderr",
     "output_type": "stream",
     "text": [
      "                                                                                                                                                                                                                      \r"
     ]
    },
    {
     "name": "stdout",
     "output_type": "stream",
     "text": [
      "Model Name: not_consider_FacebookAI, Test RMSE: 0.3675, Test MSE: 0.1350, Test MAE: 0.3066\n",
      "goal_relevance\n"
     ]
    },
    {
     "name": "stderr",
     "output_type": "stream",
     "text": [
      "                                                                                                                                                                                                                      \r"
     ]
    },
    {
     "name": "stdout",
     "output_type": "stream",
     "text": [
      "Model Name: goal_relevance_FacebookAI, Test RMSE: 0.3162, Test MSE: 0.1000, Test MAE: 0.2726\n",
      "chance_responsblt\n"
     ]
    },
    {
     "name": "stderr",
     "output_type": "stream",
     "text": [
      "                                                                                                                                                                                                                      \r"
     ]
    },
    {
     "name": "stdout",
     "output_type": "stream",
     "text": [
      "Model Name: chance_responsblt_FacebookAI, Test RMSE: 0.3943, Test MSE: 0.1555, Test MAE: 0.3483\n",
      "pleasantness\n"
     ]
    },
    {
     "name": "stderr",
     "output_type": "stream",
     "text": [
      "                                                                                                                                                                                                                      \r"
     ]
    },
    {
     "name": "stdout",
     "output_type": "stream",
     "text": [
      "Model Name: pleasantness_FacebookAI, Test RMSE: 0.2571, Test MSE: 0.0661, Test MAE: 0.1605\n",
      "attention\n"
     ]
    },
    {
     "name": "stderr",
     "output_type": "stream",
     "text": [
      "                                                                                                                                                                                                                      \r"
     ]
    },
    {
     "name": "stdout",
     "output_type": "stream",
     "text": [
      "Model Name: attention_FacebookAI, Test RMSE: 0.3008, Test MSE: 0.0905, Test MAE: 0.2419\n",
      "unpleasantness\n"
     ]
    },
    {
     "name": "stderr",
     "output_type": "stream",
     "text": [
      "                                                                                                                                                                                                                      \r"
     ]
    },
    {
     "name": "stdout",
     "output_type": "stream",
     "text": [
      "Model Name: unpleasantness_FacebookAI, Test RMSE: 0.4300, Test MSE: 0.1849, Test MAE: 0.4022\n",
      "effort\n"
     ]
    },
    {
     "name": "stderr",
     "output_type": "stream",
     "text": [
      "                                                                                                                                                                                                                      \r"
     ]
    },
    {
     "name": "stdout",
     "output_type": "stream",
     "text": [
      "Model Name: effort_FacebookAI, Test RMSE: 0.3276, Test MSE: 0.1073, Test MAE: 0.2800\n",
      "self_responsblt\n"
     ]
    },
    {
     "name": "stderr",
     "output_type": "stream",
     "text": [
      "                                                                                                                                                                                                                      \r"
     ]
    },
    {
     "name": "stdout",
     "output_type": "stream",
     "text": [
      "Model Name: self_responsblt_FacebookAI, Test RMSE: 0.4142, Test MSE: 0.1715, Test MAE: 0.3810\n",
      "urgency\n"
     ]
    },
    {
     "name": "stderr",
     "output_type": "stream",
     "text": [
      "                                                                                                                                                                                                                      \r"
     ]
    },
    {
     "name": "stdout",
     "output_type": "stream",
     "text": [
      "Model Name: urgency_FacebookAI, Test RMSE: 0.3515, Test MSE: 0.1235, Test MAE: 0.2881\n",
      "suddenness\n"
     ]
    },
    {
     "name": "stderr",
     "output_type": "stream",
     "text": [
      "                                                                                                                                                                                                                      \r"
     ]
    },
    {
     "name": "stdout",
     "output_type": "stream",
     "text": [
      "Model Name: suddenness_FacebookAI, Test RMSE: 0.3842, Test MSE: 0.1476, Test MAE: 0.3428\n",
      "other_control\n"
     ]
    },
    {
     "name": "stderr",
     "output_type": "stream",
     "text": [
      "                                                                                                                                                                                                                      \r"
     ]
    },
    {
     "name": "stdout",
     "output_type": "stream",
     "text": [
      "Model Name: other_control_FacebookAI, Test RMSE: 0.3278, Test MSE: 0.1075, Test MAE: 0.2655\n",
      "goal_support\n"
     ]
    },
    {
     "name": "stderr",
     "output_type": "stream",
     "text": [
      "                                                                                                                                                                                                                      \r"
     ]
    },
    {
     "name": "stdout",
     "output_type": "stream",
     "text": [
      "Model Name: goal_support_FacebookAI, Test RMSE: 0.2807, Test MSE: 0.0788, Test MAE: 0.2276\n",
      "social_norms\n"
     ]
    },
    {
     "name": "stderr",
     "output_type": "stream",
     "text": [
      "                                                                                                                                                                                                                      \r"
     ]
    },
    {
     "name": "stdout",
     "output_type": "stream",
     "text": [
      "Model Name: social_norms_FacebookAI, Test RMSE: 0.3346, Test MSE: 0.1120, Test MAE: 0.2678\n",
      "predict_conseq\n"
     ]
    },
    {
     "name": "stderr",
     "output_type": "stream",
     "text": [
      "                                                                                                                                                                                                                      \r"
     ]
    },
    {
     "name": "stdout",
     "output_type": "stream",
     "text": [
      "Model Name: predict_conseq_FacebookAI, Test RMSE: 0.3614, Test MSE: 0.1306, Test MAE: 0.3144\n",
      "other_responsblt\n"
     ]
    },
    {
     "name": "stderr",
     "output_type": "stream",
     "text": [
      "                                                                                                                                                                                                                      \r"
     ]
    },
    {
     "name": "stdout",
     "output_type": "stream",
     "text": [
      "Model Name: other_responsblt_FacebookAI, Test RMSE: 0.3241, Test MSE: 0.1050, Test MAE: 0.2446\n",
      "chance_control\n"
     ]
    },
    {
     "name": "stderr",
     "output_type": "stream",
     "text": [
      "                                                                                                                                                                                                                      \r"
     ]
    },
    {
     "name": "stdout",
     "output_type": "stream",
     "text": [
      "Model Name: chance_control_FacebookAI, Test RMSE: 0.3923, Test MSE: 0.1539, Test MAE: 0.3369\n",
      "self_control\n"
     ]
    },
    {
     "name": "stderr",
     "output_type": "stream",
     "text": [
      "                                                                                                                                                                                                                      \r"
     ]
    },
    {
     "name": "stdout",
     "output_type": "stream",
     "text": [
      "Model Name: self_control_FacebookAI, Test RMSE: 0.3690, Test MSE: 0.1362, Test MAE: 0.3311\n"
     ]
    }
   ],
   "source": [
    "mod_tok_dict = {\n",
    "    'bert-base-uncased' : 'bert-base-uncased',\n",
    "    'bert-large-uncased' : 'bert-large-uncased',\n",
    "    'dialogpt' : 'microsoft/DialogRPT-updown',\n",
    "    'distilbert-base-uncased' : 'distilbert-base-uncased',\n",
    "    'google-t5' : 'google-t5/t5-small',\n",
    "    'roberta-base' : 'roberta-base',\n",
    "    'roberta-large': 'FacebookAI/roberta-large',\n",
    "}\n",
    "\n",
    "for key in mod_tok_dict:\n",
    "    modeldir = os.path.join('./models', key)\n",
    "    data_dict = get_performance(mod_tok_dict[key], modeldir)"
   ]
  },
  {
   "cell_type": "code",
   "execution_count": 10,
   "id": "8469aefb-f3d1-40ed-972d-4ac859fb3902",
   "metadata": {},
   "outputs": [
    {
     "ename": "TypeError",
     "evalue": "roc_curve() missing 3 required positional arguments: 'fpr', 'tpr', and 'auc'",
     "output_type": "error",
     "traceback": [
      "\u001b[0;31m---------------------------------------------------------------------------\u001b[0m",
      "\u001b[0;31mTypeError\u001b[0m                                 Traceback (most recent call last)",
      "Cell \u001b[0;32mIn[10], line 2\u001b[0m\n\u001b[1;32m      1\u001b[0m \u001b[38;5;28;01mfor\u001b[39;00m ix, _ \u001b[38;5;129;01min\u001b[39;00m \u001b[38;5;28menumerate\u001b[39m(data_dict[\u001b[38;5;124m'\u001b[39m\u001b[38;5;124mmodel\u001b[39m\u001b[38;5;124m'\u001b[39m]):\n\u001b[0;32m----> 2\u001b[0m     roc_curve(data_dict[\u001b[38;5;124m'\u001b[39m\u001b[38;5;124mmodel\u001b[39m\u001b[38;5;124m'\u001b[39m], data_dict[\u001b[38;5;124m'\u001b[39m\u001b[38;5;124mdimension\u001b[39m\u001b[38;5;124m'\u001b[39m])\n",
      "\u001b[0;31mTypeError\u001b[0m: roc_curve() missing 3 required positional arguments: 'fpr', 'tpr', and 'auc'"
     ]
    }
   ],
   "source": [
    "# for ix, _ in enumerate(data_dict['model']):\n",
    "#     # roc_curve(data_dict['model'], data_dict['dimension'])"
   ]
  },
  {
   "cell_type": "code",
   "execution_count": 11,
   "id": "48453b99-a65b-479e-a292-3cc85d7be798",
   "metadata": {
    "collapsed": true,
    "jupyter": {
     "outputs_hidden": true
    }
   },
   "outputs": [
    {
     "data": {
      "text/html": [
       "<div>\n",
       "<style scoped>\n",
       "    .dataframe tbody tr th:only-of-type {\n",
       "        vertical-align: middle;\n",
       "    }\n",
       "\n",
       "    .dataframe tbody tr th {\n",
       "        vertical-align: top;\n",
       "    }\n",
       "\n",
       "    .dataframe thead th {\n",
       "        text-align: right;\n",
       "    }\n",
       "</style>\n",
       "<table border=\"1\" class=\"dataframe\">\n",
       "  <thead>\n",
       "    <tr style=\"text-align: right;\">\n",
       "      <th></th>\n",
       "      <th>model</th>\n",
       "      <th>dimension</th>\n",
       "      <th>RMSE</th>\n",
       "      <th>MSE</th>\n",
       "      <th>MAE</th>\n",
       "    </tr>\n",
       "  </thead>\n",
       "  <tbody>\n",
       "    <tr>\n",
       "      <th>0</th>\n",
       "      <td>bert-base-uncased</td>\n",
       "      <td>self_control</td>\n",
       "      <td>0.340837</td>\n",
       "      <td>0.116170</td>\n",
       "      <td>0.267178</td>\n",
       "    </tr>\n",
       "    <tr>\n",
       "      <th>1</th>\n",
       "      <td>bert-base-uncased</td>\n",
       "      <td>urgency</td>\n",
       "      <td>0.358199</td>\n",
       "      <td>0.128306</td>\n",
       "      <td>0.289085</td>\n",
       "    </tr>\n",
       "    <tr>\n",
       "      <th>2</th>\n",
       "      <td>bert-base-uncased</td>\n",
       "      <td>predict_event</td>\n",
       "      <td>0.350095</td>\n",
       "      <td>0.122567</td>\n",
       "      <td>0.300647</td>\n",
       "    </tr>\n",
       "    <tr>\n",
       "      <th>3</th>\n",
       "      <td>bert-base-uncased</td>\n",
       "      <td>chance_control</td>\n",
       "      <td>0.340582</td>\n",
       "      <td>0.115996</td>\n",
       "      <td>0.270933</td>\n",
       "    </tr>\n",
       "    <tr>\n",
       "      <th>4</th>\n",
       "      <td>bert-base-uncased</td>\n",
       "      <td>effort</td>\n",
       "      <td>0.330662</td>\n",
       "      <td>0.109338</td>\n",
       "      <td>0.266773</td>\n",
       "    </tr>\n",
       "    <tr>\n",
       "      <th>...</th>\n",
       "      <td>...</td>\n",
       "      <td>...</td>\n",
       "      <td>...</td>\n",
       "      <td>...</td>\n",
       "      <td>...</td>\n",
       "    </tr>\n",
       "    <tr>\n",
       "      <th>142</th>\n",
       "      <td>FacebookAI</td>\n",
       "      <td>social_norms</td>\n",
       "      <td>0.334594</td>\n",
       "      <td>0.111953</td>\n",
       "      <td>0.267847</td>\n",
       "    </tr>\n",
       "    <tr>\n",
       "      <th>143</th>\n",
       "      <td>FacebookAI</td>\n",
       "      <td>predict_conseq</td>\n",
       "      <td>0.361370</td>\n",
       "      <td>0.130588</td>\n",
       "      <td>0.314368</td>\n",
       "    </tr>\n",
       "    <tr>\n",
       "      <th>144</th>\n",
       "      <td>FacebookAI</td>\n",
       "      <td>other_responsblt</td>\n",
       "      <td>0.324101</td>\n",
       "      <td>0.105041</td>\n",
       "      <td>0.244587</td>\n",
       "    </tr>\n",
       "    <tr>\n",
       "      <th>145</th>\n",
       "      <td>FacebookAI</td>\n",
       "      <td>chance_control</td>\n",
       "      <td>0.392263</td>\n",
       "      <td>0.153871</td>\n",
       "      <td>0.336888</td>\n",
       "    </tr>\n",
       "    <tr>\n",
       "      <th>146</th>\n",
       "      <td>FacebookAI</td>\n",
       "      <td>self_control</td>\n",
       "      <td>0.369002</td>\n",
       "      <td>0.136162</td>\n",
       "      <td>0.331118</td>\n",
       "    </tr>\n",
       "  </tbody>\n",
       "</table>\n",
       "<p>147 rows × 5 columns</p>\n",
       "</div>"
      ],
      "text/plain": [
       "                 model         dimension      RMSE       MSE       MAE\n",
       "0    bert-base-uncased      self_control  0.340837  0.116170  0.267178\n",
       "1    bert-base-uncased           urgency  0.358199  0.128306  0.289085\n",
       "2    bert-base-uncased     predict_event  0.350095  0.122567  0.300647\n",
       "3    bert-base-uncased    chance_control  0.340582  0.115996  0.270933\n",
       "4    bert-base-uncased            effort  0.330662  0.109338  0.266773\n",
       "..                 ...               ...       ...       ...       ...\n",
       "142         FacebookAI      social_norms  0.334594  0.111953  0.267847\n",
       "143         FacebookAI    predict_conseq  0.361370  0.130588  0.314368\n",
       "144         FacebookAI  other_responsblt  0.324101  0.105041  0.244587\n",
       "145         FacebookAI    chance_control  0.392263  0.153871  0.336888\n",
       "146         FacebookAI      self_control  0.369002  0.136162  0.331118\n",
       "\n",
       "[147 rows x 5 columns]"
      ]
     },
     "execution_count": 11,
     "metadata": {},
     "output_type": "execute_result"
    }
   ],
   "source": [
    "df = pd.DataFrame(data_dict)\n",
    "df"
   ]
  },
  {
   "cell_type": "code",
   "execution_count": 12,
   "id": "5f5a8814-ec48-49de-a344-75dae5245f7b",
   "metadata": {},
   "outputs": [
    {
     "data": {
      "text/html": [
       "<div>\n",
       "<style scoped>\n",
       "    .dataframe tbody tr th:only-of-type {\n",
       "        vertical-align: middle;\n",
       "    }\n",
       "\n",
       "    .dataframe tbody tr th {\n",
       "        vertical-align: top;\n",
       "    }\n",
       "\n",
       "    .dataframe thead th {\n",
       "        text-align: right;\n",
       "    }\n",
       "</style>\n",
       "<table border=\"1\" class=\"dataframe\">\n",
       "  <thead>\n",
       "    <tr style=\"text-align: right;\">\n",
       "      <th></th>\n",
       "      <th>RMSE</th>\n",
       "      <th>MSE</th>\n",
       "      <th>MAE</th>\n",
       "    </tr>\n",
       "  </thead>\n",
       "  <tbody>\n",
       "    <tr>\n",
       "      <th>count</th>\n",
       "      <td>21.000000</td>\n",
       "      <td>21.000000</td>\n",
       "      <td>21.000000</td>\n",
       "    </tr>\n",
       "    <tr>\n",
       "      <th>mean</th>\n",
       "      <td>0.336824</td>\n",
       "      <td>0.114753</td>\n",
       "      <td>0.277004</td>\n",
       "    </tr>\n",
       "    <tr>\n",
       "      <th>std</th>\n",
       "      <td>0.036986</td>\n",
       "      <td>0.024848</td>\n",
       "      <td>0.051267</td>\n",
       "    </tr>\n",
       "    <tr>\n",
       "      <th>min</th>\n",
       "      <td>0.262320</td>\n",
       "      <td>0.068812</td>\n",
       "      <td>0.176911</td>\n",
       "    </tr>\n",
       "    <tr>\n",
       "      <th>25%</th>\n",
       "      <td>0.327346</td>\n",
       "      <td>0.107155</td>\n",
       "      <td>0.259553</td>\n",
       "    </tr>\n",
       "    <tr>\n",
       "      <th>50%</th>\n",
       "      <td>0.340358</td>\n",
       "      <td>0.115843</td>\n",
       "      <td>0.279807</td>\n",
       "    </tr>\n",
       "    <tr>\n",
       "      <th>75%</th>\n",
       "      <td>0.350693</td>\n",
       "      <td>0.122986</td>\n",
       "      <td>0.288983</td>\n",
       "    </tr>\n",
       "    <tr>\n",
       "      <th>max</th>\n",
       "      <td>0.411290</td>\n",
       "      <td>0.169159</td>\n",
       "      <td>0.379276</td>\n",
       "    </tr>\n",
       "  </tbody>\n",
       "</table>\n",
       "</div>"
      ],
      "text/plain": [
       "            RMSE        MSE        MAE\n",
       "count  21.000000  21.000000  21.000000\n",
       "mean    0.336824   0.114753   0.277004\n",
       "std     0.036986   0.024848   0.051267\n",
       "min     0.262320   0.068812   0.176911\n",
       "25%     0.327346   0.107155   0.259553\n",
       "50%     0.340358   0.115843   0.279807\n",
       "75%     0.350693   0.122986   0.288983\n",
       "max     0.411290   0.169159   0.379276"
      ]
     },
     "execution_count": 12,
     "metadata": {},
     "output_type": "execute_result"
    }
   ],
   "source": [
    "df[df['model'] == 'bert-large-uncased'].describe()"
   ]
  },
  {
   "cell_type": "code",
   "execution_count": 13,
   "id": "ff700692-74ba-45e4-af2d-10ded8a9ca54",
   "metadata": {},
   "outputs": [
    {
     "data": {
      "text/html": [
       "<div>\n",
       "<style scoped>\n",
       "    .dataframe tbody tr th:only-of-type {\n",
       "        vertical-align: middle;\n",
       "    }\n",
       "\n",
       "    .dataframe tbody tr th {\n",
       "        vertical-align: top;\n",
       "    }\n",
       "\n",
       "    .dataframe thead th {\n",
       "        text-align: right;\n",
       "    }\n",
       "</style>\n",
       "<table border=\"1\" class=\"dataframe\">\n",
       "  <thead>\n",
       "    <tr style=\"text-align: right;\">\n",
       "      <th></th>\n",
       "      <th>RMSE</th>\n",
       "      <th>MSE</th>\n",
       "      <th>MAE</th>\n",
       "    </tr>\n",
       "  </thead>\n",
       "  <tbody>\n",
       "    <tr>\n",
       "      <th>count</th>\n",
       "      <td>21.000000</td>\n",
       "      <td>21.000000</td>\n",
       "      <td>21.000000</td>\n",
       "    </tr>\n",
       "    <tr>\n",
       "      <th>mean</th>\n",
       "      <td>0.321761</td>\n",
       "      <td>0.104236</td>\n",
       "      <td>0.260431</td>\n",
       "    </tr>\n",
       "    <tr>\n",
       "      <th>std</th>\n",
       "      <td>0.027220</td>\n",
       "      <td>0.016866</td>\n",
       "      <td>0.031110</td>\n",
       "    </tr>\n",
       "    <tr>\n",
       "      <th>min</th>\n",
       "      <td>0.256373</td>\n",
       "      <td>0.065727</td>\n",
       "      <td>0.178736</td>\n",
       "    </tr>\n",
       "    <tr>\n",
       "      <th>25%</th>\n",
       "      <td>0.313880</td>\n",
       "      <td>0.098521</td>\n",
       "      <td>0.243398</td>\n",
       "    </tr>\n",
       "    <tr>\n",
       "      <th>50%</th>\n",
       "      <td>0.327237</td>\n",
       "      <td>0.107084</td>\n",
       "      <td>0.274048</td>\n",
       "    </tr>\n",
       "    <tr>\n",
       "      <th>75%</th>\n",
       "      <td>0.344410</td>\n",
       "      <td>0.118618</td>\n",
       "      <td>0.279331</td>\n",
       "    </tr>\n",
       "    <tr>\n",
       "      <th>max</th>\n",
       "      <td>0.355742</td>\n",
       "      <td>0.126553</td>\n",
       "      <td>0.302349</td>\n",
       "    </tr>\n",
       "  </tbody>\n",
       "</table>\n",
       "</div>"
      ],
      "text/plain": [
       "            RMSE        MSE        MAE\n",
       "count  21.000000  21.000000  21.000000\n",
       "mean    0.321761   0.104236   0.260431\n",
       "std     0.027220   0.016866   0.031110\n",
       "min     0.256373   0.065727   0.178736\n",
       "25%     0.313880   0.098521   0.243398\n",
       "50%     0.327237   0.107084   0.274048\n",
       "75%     0.344410   0.118618   0.279331\n",
       "max     0.355742   0.126553   0.302349"
      ]
     },
     "execution_count": 13,
     "metadata": {},
     "output_type": "execute_result"
    }
   ],
   "source": [
    "df[df['model'] == 'roberta-base'].describe()"
   ]
  },
  {
   "cell_type": "code",
   "execution_count": 14,
   "id": "1e937338-f09e-4db1-8633-98b9486ae1a8",
   "metadata": {},
   "outputs": [
    {
     "data": {
      "text/html": [
       "<div>\n",
       "<style scoped>\n",
       "    .dataframe tbody tr th:only-of-type {\n",
       "        vertical-align: middle;\n",
       "    }\n",
       "\n",
       "    .dataframe tbody tr th {\n",
       "        vertical-align: top;\n",
       "    }\n",
       "\n",
       "    .dataframe thead th {\n",
       "        text-align: right;\n",
       "    }\n",
       "</style>\n",
       "<table border=\"1\" class=\"dataframe\">\n",
       "  <thead>\n",
       "    <tr style=\"text-align: right;\">\n",
       "      <th></th>\n",
       "      <th>RMSE</th>\n",
       "      <th>MSE</th>\n",
       "      <th>MAE</th>\n",
       "    </tr>\n",
       "  </thead>\n",
       "  <tbody>\n",
       "    <tr>\n",
       "      <th>count</th>\n",
       "      <td>21.000000</td>\n",
       "      <td>21.000000</td>\n",
       "      <td>21.000000</td>\n",
       "    </tr>\n",
       "    <tr>\n",
       "      <th>mean</th>\n",
       "      <td>0.329429</td>\n",
       "      <td>0.109161</td>\n",
       "      <td>0.267668</td>\n",
       "    </tr>\n",
       "    <tr>\n",
       "      <th>std</th>\n",
       "      <td>0.025866</td>\n",
       "      <td>0.016597</td>\n",
       "      <td>0.032188</td>\n",
       "    </tr>\n",
       "    <tr>\n",
       "      <th>min</th>\n",
       "      <td>0.274217</td>\n",
       "      <td>0.075195</td>\n",
       "      <td>0.187304</td>\n",
       "    </tr>\n",
       "    <tr>\n",
       "      <th>25%</th>\n",
       "      <td>0.319028</td>\n",
       "      <td>0.101779</td>\n",
       "      <td>0.250079</td>\n",
       "    </tr>\n",
       "    <tr>\n",
       "      <th>50%</th>\n",
       "      <td>0.339855</td>\n",
       "      <td>0.115501</td>\n",
       "      <td>0.275937</td>\n",
       "    </tr>\n",
       "    <tr>\n",
       "      <th>75%</th>\n",
       "      <td>0.348023</td>\n",
       "      <td>0.121120</td>\n",
       "      <td>0.293428</td>\n",
       "    </tr>\n",
       "    <tr>\n",
       "      <th>max</th>\n",
       "      <td>0.365246</td>\n",
       "      <td>0.133405</td>\n",
       "      <td>0.306085</td>\n",
       "    </tr>\n",
       "  </tbody>\n",
       "</table>\n",
       "</div>"
      ],
      "text/plain": [
       "            RMSE        MSE        MAE\n",
       "count  21.000000  21.000000  21.000000\n",
       "mean    0.329429   0.109161   0.267668\n",
       "std     0.025866   0.016597   0.032188\n",
       "min     0.274217   0.075195   0.187304\n",
       "25%     0.319028   0.101779   0.250079\n",
       "50%     0.339855   0.115501   0.275937\n",
       "75%     0.348023   0.121120   0.293428\n",
       "max     0.365246   0.133405   0.306085"
      ]
     },
     "execution_count": 14,
     "metadata": {},
     "output_type": "execute_result"
    }
   ],
   "source": [
    "df[df['model'] == 'distilbert-base-uncased'].describe()"
   ]
  },
  {
   "cell_type": "code",
   "execution_count": 15,
   "id": "a07f03ba-2a2a-4bef-ba53-d8b446975538",
   "metadata": {},
   "outputs": [
    {
     "data": {
      "text/html": [
       "<div>\n",
       "<style scoped>\n",
       "    .dataframe tbody tr th:only-of-type {\n",
       "        vertical-align: middle;\n",
       "    }\n",
       "\n",
       "    .dataframe tbody tr th {\n",
       "        vertical-align: top;\n",
       "    }\n",
       "\n",
       "    .dataframe thead th {\n",
       "        text-align: right;\n",
       "    }\n",
       "</style>\n",
       "<table border=\"1\" class=\"dataframe\">\n",
       "  <thead>\n",
       "    <tr style=\"text-align: right;\">\n",
       "      <th></th>\n",
       "      <th>RMSE</th>\n",
       "      <th>MSE</th>\n",
       "      <th>MAE</th>\n",
       "    </tr>\n",
       "  </thead>\n",
       "  <tbody>\n",
       "    <tr>\n",
       "      <th>count</th>\n",
       "      <td>21.000000</td>\n",
       "      <td>21.000000</td>\n",
       "      <td>21.000000</td>\n",
       "    </tr>\n",
       "    <tr>\n",
       "      <th>mean</th>\n",
       "      <td>0.348815</td>\n",
       "      <td>0.122223</td>\n",
       "      <td>0.295777</td>\n",
       "    </tr>\n",
       "    <tr>\n",
       "      <th>std</th>\n",
       "      <td>0.024044</td>\n",
       "      <td>0.016386</td>\n",
       "      <td>0.029438</td>\n",
       "    </tr>\n",
       "    <tr>\n",
       "      <th>min</th>\n",
       "      <td>0.296971</td>\n",
       "      <td>0.088192</td>\n",
       "      <td>0.230874</td>\n",
       "    </tr>\n",
       "    <tr>\n",
       "      <th>25%</th>\n",
       "      <td>0.341761</td>\n",
       "      <td>0.116801</td>\n",
       "      <td>0.291304</td>\n",
       "    </tr>\n",
       "    <tr>\n",
       "      <th>50%</th>\n",
       "      <td>0.351996</td>\n",
       "      <td>0.123901</td>\n",
       "      <td>0.303170</td>\n",
       "    </tr>\n",
       "    <tr>\n",
       "      <th>75%</th>\n",
       "      <td>0.366699</td>\n",
       "      <td>0.134468</td>\n",
       "      <td>0.314051</td>\n",
       "    </tr>\n",
       "    <tr>\n",
       "      <th>max</th>\n",
       "      <td>0.386958</td>\n",
       "      <td>0.149736</td>\n",
       "      <td>0.334290</td>\n",
       "    </tr>\n",
       "  </tbody>\n",
       "</table>\n",
       "</div>"
      ],
      "text/plain": [
       "            RMSE        MSE        MAE\n",
       "count  21.000000  21.000000  21.000000\n",
       "mean    0.348815   0.122223   0.295777\n",
       "std     0.024044   0.016386   0.029438\n",
       "min     0.296971   0.088192   0.230874\n",
       "25%     0.341761   0.116801   0.291304\n",
       "50%     0.351996   0.123901   0.303170\n",
       "75%     0.366699   0.134468   0.314051\n",
       "max     0.386958   0.149736   0.334290"
      ]
     },
     "execution_count": 15,
     "metadata": {},
     "output_type": "execute_result"
    }
   ],
   "source": [
    "df[df['model'] == 'google-t5'].describe()"
   ]
  },
  {
   "cell_type": "code",
   "execution_count": 16,
   "id": "deae5723-e2da-4c7a-a8e7-e4b1dd5a509b",
   "metadata": {},
   "outputs": [
    {
     "data": {
      "text/html": [
       "<div>\n",
       "<style scoped>\n",
       "    .dataframe tbody tr th:only-of-type {\n",
       "        vertical-align: middle;\n",
       "    }\n",
       "\n",
       "    .dataframe tbody tr th {\n",
       "        vertical-align: top;\n",
       "    }\n",
       "\n",
       "    .dataframe thead th {\n",
       "        text-align: right;\n",
       "    }\n",
       "</style>\n",
       "<table border=\"1\" class=\"dataframe\">\n",
       "  <thead>\n",
       "    <tr style=\"text-align: right;\">\n",
       "      <th></th>\n",
       "      <th>RMSE</th>\n",
       "      <th>MSE</th>\n",
       "      <th>MAE</th>\n",
       "    </tr>\n",
       "  </thead>\n",
       "  <tbody>\n",
       "    <tr>\n",
       "      <th>count</th>\n",
       "      <td>21.000000</td>\n",
       "      <td>21.000000</td>\n",
       "      <td>21.000000</td>\n",
       "    </tr>\n",
       "    <tr>\n",
       "      <th>mean</th>\n",
       "      <td>0.329125</td>\n",
       "      <td>0.108963</td>\n",
       "      <td>0.265786</td>\n",
       "    </tr>\n",
       "    <tr>\n",
       "      <th>std</th>\n",
       "      <td>0.025916</td>\n",
       "      <td>0.016475</td>\n",
       "      <td>0.032267</td>\n",
       "    </tr>\n",
       "    <tr>\n",
       "      <th>min</th>\n",
       "      <td>0.267815</td>\n",
       "      <td>0.071725</td>\n",
       "      <td>0.191849</td>\n",
       "    </tr>\n",
       "    <tr>\n",
       "      <th>25%</th>\n",
       "      <td>0.315301</td>\n",
       "      <td>0.099415</td>\n",
       "      <td>0.257789</td>\n",
       "    </tr>\n",
       "    <tr>\n",
       "      <th>50%</th>\n",
       "      <td>0.337686</td>\n",
       "      <td>0.114032</td>\n",
       "      <td>0.268092</td>\n",
       "    </tr>\n",
       "    <tr>\n",
       "      <th>75%</th>\n",
       "      <td>0.349059</td>\n",
       "      <td>0.121842</td>\n",
       "      <td>0.289181</td>\n",
       "    </tr>\n",
       "    <tr>\n",
       "      <th>max</th>\n",
       "      <td>0.358199</td>\n",
       "      <td>0.128306</td>\n",
       "      <td>0.308196</td>\n",
       "    </tr>\n",
       "  </tbody>\n",
       "</table>\n",
       "</div>"
      ],
      "text/plain": [
       "            RMSE        MSE        MAE\n",
       "count  21.000000  21.000000  21.000000\n",
       "mean    0.329125   0.108963   0.265786\n",
       "std     0.025916   0.016475   0.032267\n",
       "min     0.267815   0.071725   0.191849\n",
       "25%     0.315301   0.099415   0.257789\n",
       "50%     0.337686   0.114032   0.268092\n",
       "75%     0.349059   0.121842   0.289181\n",
       "max     0.358199   0.128306   0.308196"
      ]
     },
     "execution_count": 16,
     "metadata": {},
     "output_type": "execute_result"
    }
   ],
   "source": [
    "df[df['model'] == 'bert-base-uncased'].describe()"
   ]
  },
  {
   "cell_type": "code",
   "execution_count": 21,
   "id": "cfa0d390-dc68-45a4-91ac-cf00260c1a31",
   "metadata": {},
   "outputs": [
    {
     "data": {
      "text/html": [
       "<div>\n",
       "<style scoped>\n",
       "    .dataframe tbody tr th:only-of-type {\n",
       "        vertical-align: middle;\n",
       "    }\n",
       "\n",
       "    .dataframe tbody tr th {\n",
       "        vertical-align: top;\n",
       "    }\n",
       "\n",
       "    .dataframe thead th {\n",
       "        text-align: right;\n",
       "    }\n",
       "</style>\n",
       "<table border=\"1\" class=\"dataframe\">\n",
       "  <thead>\n",
       "    <tr style=\"text-align: right;\">\n",
       "      <th></th>\n",
       "      <th>RMSE</th>\n",
       "      <th>MSE</th>\n",
       "      <th>MAE</th>\n",
       "    </tr>\n",
       "  </thead>\n",
       "  <tbody>\n",
       "    <tr>\n",
       "      <th>count</th>\n",
       "      <td>21.000000</td>\n",
       "      <td>21.000000</td>\n",
       "      <td>21.000000</td>\n",
       "    </tr>\n",
       "    <tr>\n",
       "      <th>mean</th>\n",
       "      <td>0.334287</td>\n",
       "      <td>0.112225</td>\n",
       "      <td>0.273591</td>\n",
       "    </tr>\n",
       "    <tr>\n",
       "      <th>std</th>\n",
       "      <td>0.022386</td>\n",
       "      <td>0.014705</td>\n",
       "      <td>0.030304</td>\n",
       "    </tr>\n",
       "    <tr>\n",
       "      <th>min</th>\n",
       "      <td>0.288885</td>\n",
       "      <td>0.083455</td>\n",
       "      <td>0.203294</td>\n",
       "    </tr>\n",
       "    <tr>\n",
       "      <th>25%</th>\n",
       "      <td>0.317354</td>\n",
       "      <td>0.100713</td>\n",
       "      <td>0.264389</td>\n",
       "    </tr>\n",
       "    <tr>\n",
       "      <th>50%</th>\n",
       "      <td>0.332921</td>\n",
       "      <td>0.110837</td>\n",
       "      <td>0.278148</td>\n",
       "    </tr>\n",
       "    <tr>\n",
       "      <th>75%</th>\n",
       "      <td>0.351846</td>\n",
       "      <td>0.123795</td>\n",
       "      <td>0.296393</td>\n",
       "    </tr>\n",
       "    <tr>\n",
       "      <th>max</th>\n",
       "      <td>0.360667</td>\n",
       "      <td>0.130081</td>\n",
       "      <td>0.312788</td>\n",
       "    </tr>\n",
       "  </tbody>\n",
       "</table>\n",
       "</div>"
      ],
      "text/plain": [
       "            RMSE        MSE        MAE\n",
       "count  21.000000  21.000000  21.000000\n",
       "mean    0.334287   0.112225   0.273591\n",
       "std     0.022386   0.014705   0.030304\n",
       "min     0.288885   0.083455   0.203294\n",
       "25%     0.317354   0.100713   0.264389\n",
       "50%     0.332921   0.110837   0.278148\n",
       "75%     0.351846   0.123795   0.296393\n",
       "max     0.360667   0.130081   0.312788"
      ]
     },
     "execution_count": 21,
     "metadata": {},
     "output_type": "execute_result"
    }
   ],
   "source": [
    "df[df['model'] == 'microsoft'].describe()"
   ]
  },
  {
   "cell_type": "code",
   "execution_count": 22,
   "id": "e5eee545-939a-4221-ba6e-70c9bf0dc44d",
   "metadata": {},
   "outputs": [
    {
     "data": {
      "text/html": [
       "<div>\n",
       "<style scoped>\n",
       "    .dataframe tbody tr th:only-of-type {\n",
       "        vertical-align: middle;\n",
       "    }\n",
       "\n",
       "    .dataframe tbody tr th {\n",
       "        vertical-align: top;\n",
       "    }\n",
       "\n",
       "    .dataframe thead th {\n",
       "        text-align: right;\n",
       "    }\n",
       "</style>\n",
       "<table border=\"1\" class=\"dataframe\">\n",
       "  <thead>\n",
       "    <tr style=\"text-align: right;\">\n",
       "      <th></th>\n",
       "      <th>RMSE</th>\n",
       "      <th>MSE</th>\n",
       "      <th>MAE</th>\n",
       "    </tr>\n",
       "  </thead>\n",
       "  <tbody>\n",
       "    <tr>\n",
       "      <th>count</th>\n",
       "      <td>21.000000</td>\n",
       "      <td>21.000000</td>\n",
       "      <td>21.000000</td>\n",
       "    </tr>\n",
       "    <tr>\n",
       "      <th>mean</th>\n",
       "      <td>0.348441</td>\n",
       "      <td>0.123188</td>\n",
       "      <td>0.292807</td>\n",
       "    </tr>\n",
       "    <tr>\n",
       "      <th>std</th>\n",
       "      <td>0.043191</td>\n",
       "      <td>0.029984</td>\n",
       "      <td>0.056277</td>\n",
       "    </tr>\n",
       "    <tr>\n",
       "      <th>min</th>\n",
       "      <td>0.257111</td>\n",
       "      <td>0.066106</td>\n",
       "      <td>0.160482</td>\n",
       "    </tr>\n",
       "    <tr>\n",
       "      <th>25%</th>\n",
       "      <td>0.324101</td>\n",
       "      <td>0.105041</td>\n",
       "      <td>0.252638</td>\n",
       "    </tr>\n",
       "    <tr>\n",
       "      <th>50%</th>\n",
       "      <td>0.348768</td>\n",
       "      <td>0.121639</td>\n",
       "      <td>0.288071</td>\n",
       "    </tr>\n",
       "    <tr>\n",
       "      <th>75%</th>\n",
       "      <td>0.381361</td>\n",
       "      <td>0.145436</td>\n",
       "      <td>0.336888</td>\n",
       "    </tr>\n",
       "    <tr>\n",
       "      <th>max</th>\n",
       "      <td>0.429966</td>\n",
       "      <td>0.184871</td>\n",
       "      <td>0.402199</td>\n",
       "    </tr>\n",
       "  </tbody>\n",
       "</table>\n",
       "</div>"
      ],
      "text/plain": [
       "            RMSE        MSE        MAE\n",
       "count  21.000000  21.000000  21.000000\n",
       "mean    0.348441   0.123188   0.292807\n",
       "std     0.043191   0.029984   0.056277\n",
       "min     0.257111   0.066106   0.160482\n",
       "25%     0.324101   0.105041   0.252638\n",
       "50%     0.348768   0.121639   0.288071\n",
       "75%     0.381361   0.145436   0.336888\n",
       "max     0.429966   0.184871   0.402199"
      ]
     },
     "execution_count": 22,
     "metadata": {},
     "output_type": "execute_result"
    }
   ],
   "source": [
    "df[df['model'] == 'FacebookAI'].describe()"
   ]
  }
 ],
 "metadata": {
  "kernelspec": {
   "display_name": "Python 3 (ipykernel)",
   "language": "python",
   "name": "python3"
  },
  "language_info": {
   "codemirror_mode": {
    "name": "ipython",
    "version": 3
   },
   "file_extension": ".py",
   "mimetype": "text/x-python",
   "name": "python",
   "nbconvert_exporter": "python",
   "pygments_lexer": "ipython3",
   "version": "3.11.7"
  }
 },
 "nbformat": 4,
 "nbformat_minor": 5
}
